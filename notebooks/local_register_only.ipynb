{
 "cells": [
  {
   "cell_type": "markdown",
   "metadata": {},
   "source": [
    "## Logging Configuration"
   ]
  },
  {
   "cell_type": "code",
   "execution_count": null,
   "metadata": {},
   "outputs": [],
   "source": [
    "from bigstream.configure_logging import configure_logging\n",
    "\n",
    "configure_logging(None, True)"
   ]
  },
  {
   "cell_type": "markdown",
   "metadata": {
    "tags": []
   },
   "source": [
    "## Inputs\n",
    "---"
   ]
  },
  {
   "cell_type": "code",
   "execution_count": null,
   "metadata": {},
   "outputs": [],
   "source": [
    "# reading data and working with arrays\n",
    "import os\n",
    "import zarr, nrrd\n",
    "import numpy as np\n",
    "import os\n",
    "\n",
    "# data paths\n",
    "base_path = '/Users/goinac/Work/HHMI/bioimagetools/nextflow-modules'\n",
    "p = f'{base_path}/mylocal/bigstream-testdata3'\n",
    "fix_path = f'{p}/fix.n5'\n",
    "ref_ch = 'c0'\n",
    "fix_s0_subpath = f'{ref_ch}/s0'\n",
    "mov_path = f'{p}/mov.n5'\n",
    "mov_s0_subpath = f'{ref_ch}/s0'\n",
    "exp_factor = 1\n",
    "\n",
    "out_p = f'{base_path}/mylocal/results/bigstream-python'\n",
    "os.makedirs(out_p, exist_ok=True)\n",
    "\n",
    "# load fix data and spacing\n",
    "fix_zarr = zarr.open(store=zarr.N5Store(fix_path), mode='r')\n",
    "fix_meta = fix_zarr[fix_s0_subpath].attrs.asdict()\n",
    "print(f'Fix attrs: {fix_meta}')\n",
    "\n",
    "# load mov data and spacing\n",
    "mov_zarr = zarr.open(store=zarr.N5Store(mov_path), mode='r')\n",
    "mov_meta = mov_zarr[mov_s0_subpath].attrs.asdict()\n",
    "print(f'Mov attrs: {mov_meta}')\n"
   ]
  },
  {
   "cell_type": "code",
   "execution_count": null,
   "metadata": {},
   "outputs": [],
   "source": [
    "\n",
    "fix_spacing_s0 = np.array(fix_meta['pixelResolution']['dimensions'][::-1]) / exp_factor\n",
    "fix_spacing_s1 = fix_spacing_s0 * [2, 2, 2]\n",
    "fix_spacing_s2 = fix_spacing_s0 * [4, 4, 4]\n",
    "fix_spacing_s3 = fix_spacing_s0 * [8, 8, 8]\n",
    "fix_spacing_s4 = fix_spacing_s0 * [16, 16, 16]\n",
    "fix_spacing_s5 = fix_spacing_s0 * [32, 32, 32]\n",
    "print(f'fix_spacing_s0: {fix_spacing_s0}')\n",
    "print(f'fix_spacing_s1: {fix_spacing_s1}')\n",
    "print(f'fix_spacing_s2: {fix_spacing_s2}')\n",
    "print(f'fix_spacing_s3: {fix_spacing_s3}')\n",
    "print(f'fix_spacing_s4: {fix_spacing_s4}')\n",
    "print(f'fix_spacing_s5: {fix_spacing_s5}')\n",
    "\n",
    "mov_spacing_s0 = np.array(mov_meta['pixelResolution']['dimensions'][::-1]) / exp_factor\n",
    "mov_spacing_s1 = mov_spacing_s0 * [2, 2, 2]\n",
    "mov_spacing_s2 = mov_spacing_s0 * [4, 4, 4]\n",
    "mov_spacing_s3 = mov_spacing_s0 * [8, 8, 8]\n",
    "mov_spacing_s4 = mov_spacing_s0 * [16, 16, 16]\n",
    "mov_spacing_s5 = mov_spacing_s0 * [32, 32, 32]\n",
    "\n",
    "print(f'mov_spacing_s0: {mov_spacing_s0}')\n",
    "print(f'mov_spacing_s1: {mov_spacing_s1}')\n",
    "print(f'mov_spacing_s2: {mov_spacing_s2}')\n",
    "print(f'mov_spacing_s3: {mov_spacing_s3}')\n",
    "print(f'mov_spacing_s4: {mov_spacing_s4}')\n",
    "print(f'mov_spacing_s5: {mov_spacing_s5}')\n",
    "\n",
    "global_scale = 's0'\n",
    "fix_affine_spacing = fix_spacing_s0\n",
    "mov_affine_spacing = mov_spacing_s0\n",
    "\n",
    "local_scale = 's0'\n",
    "fix_deform_spacing = fix_spacing_s0\n",
    "mov_deform_spacing = mov_spacing_s0"
   ]
  },
  {
   "cell_type": "markdown",
   "metadata": {
    "tags": []
   },
   "source": [
    "## Alignment\n",
    "---"
   ]
  },
  {
   "cell_type": "markdown",
   "metadata": {},
   "source": [
    "### Load affine"
   ]
  },
  {
   "cell_type": "code",
   "execution_count": null,
   "metadata": {},
   "outputs": [],
   "source": [
    "# load precomputed results\n",
    "affine = np.loadtxt(out_p+'/affine.mat')\n",
    "affine"
   ]
  },
  {
   "cell_type": "markdown",
   "metadata": {},
   "source": [
    "### Prepare cluster args"
   ]
  },
  {
   "cell_type": "code",
   "execution_count": null,
   "metadata": {},
   "outputs": [],
   "source": [
    "cluster_kwargs={\n",
    "    'config':{\n",
    "        'distributed.worker.memory.target':0.9,\n",
    "        'distributed.worker.memory.spill':0.9,\n",
    "        'distributed.worker.memory.pause':0.9,\n",
    "        'distributed.comm.retry.count':10,\n",
    "        'distributed.comm.timeouts.connect':'600s',\n",
    "        'distributed.scheduler.worker-saturation': 1,\n",
    "        'distributed.scheduler.unknown-task-duration':'60m',\n",
    "    },\n",
    "}"
   ]
  },
  {
   "cell_type": "markdown",
   "metadata": {},
   "source": [
    "### Calculate deform transformation"
   ]
  },
  {
   "cell_type": "code",
   "execution_count": null,
   "metadata": {},
   "outputs": [],
   "source": [
    "%%time\n",
    "from bigstream.piecewise_align import distributed_piecewise_alignment_pipeline\n",
    "\n",
    "# FASTER\n",
    "\n",
    "# get full resolution data\n",
    "fix = fix_zarr[f'/{ref_ch}/{local_scale}']\n",
    "mov = mov_zarr[f'/{ref_ch}/{local_scale}']\n",
    "\n",
    "# define alignment steps\n",
    "affine_kwargs = {\n",
    "    'smooth_sigmas':[0.25],\n",
    "    'optimizer_args':{\n",
    "        'learningRate':0.25,\n",
    "        'minStep':0.,\n",
    "        'numberOfIterations':25,\n",
    "    },\n",
    "    \"alignment_spacing\": 1.0,\n",
    "}\n",
    "\n",
    "deform_kwargs = {\n",
    "    'smooth_sigmas':[0.25],\n",
    "    'control_point_spacing':50.0,\n",
    "    'control_point_levels':[1],\n",
    "    'optimizer_args':{\n",
    "        'learningRate':2.5,\n",
    "        'minStep':0.,\n",
    "        'numberOfIterations':25,\n",
    "    },\n",
    "    \"alignment_spacing\": 2.0,\n",
    "}\n",
    "\n",
    "steps = [ ('affine', affine_kwargs,), ('deform', deform_kwargs,), ]\n",
    "\n",
    "# deform\n",
    "deform = distributed_piecewise_alignment_pipeline(\n",
    "    fix, mov,\n",
    "    fix_deform_spacing, mov_deform_spacing,\n",
    "    steps=steps,\n",
    "    blocksize=[128, 128, 128],\n",
    "    static_transform_list=[affine,],\n",
    "    write_path=out_p+'/deform.zarr',\n",
    "    cluster_kwargs=cluster_kwargs,\n",
    ")\n"
   ]
  },
  {
   "cell_type": "code",
   "execution_count": null,
   "metadata": {},
   "outputs": [],
   "source": [
    "# read already saved result\n",
    "deform = zarr.open(out_p+'/deform.zarr', mode='r')"
   ]
  },
  {
   "cell_type": "code",
   "execution_count": null,
   "metadata": {},
   "outputs": [],
   "source": [
    "print('Deform[0:10,0,0]',deform[0:10,0,0])"
   ]
  },
  {
   "cell_type": "code",
   "execution_count": null,
   "metadata": {},
   "outputs": [],
   "source": [
    "from bigstream.piecewise_transform import distributed_apply_transform\n",
    "\n",
    "blocksize = (64,)*3\n",
    "channels = [ref_ch]\n",
    "\n",
    "fix = fix_zarr[f'/{ref_ch}/{local_scale}']\n",
    "for channel in channels:\n",
    "    mov = mov_zarr[f'/{channel}/{local_scale}']\n",
    "    aligned = distributed_apply_transform(\n",
    "        fix, mov,\n",
    "        fix_deform_spacing, mov_deform_spacing,\n",
    "        transform_list=[affine, deform,],\n",
    "        transform_spacing=((1,1,1), fix_deform_spacing),\n",
    "        blocksize=blocksize,\n",
    "        cluster_kwargs=cluster_kwargs\n",
    "    )\n",
    "    print(f'Write aligned result to:{out_p}/r2{channel}{local_scale}_aligned_to_r1.nrrd')\n",
    "    nrrd.write(out_p+f'/r2{channel}{local_scale}_aligned_to_r1.nrrd', aligned.transpose(2,1,0), compression_level=2)\n"
   ]
  }
 ],
 "metadata": {
  "kernelspec": {
   "display_name": "bigstream_test",
   "language": "python",
   "name": "python3"
  },
  "language_info": {
   "codemirror_mode": {
    "name": "ipython",
    "version": 3
   },
   "file_extension": ".py",
   "mimetype": "text/x-python",
   "name": "python",
   "nbconvert_exporter": "python",
   "pygments_lexer": "ipython3",
   "version": "3.11.9"
  }
 },
 "nbformat": 4,
 "nbformat_minor": 4
}
