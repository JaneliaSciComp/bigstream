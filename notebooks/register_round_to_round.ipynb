{
 "cells": [
  {
   "cell_type": "markdown",
   "metadata": {
    "tags": []
   },
   "source": [
    "## Inputs\n",
    "---"
   ]
  },
  {
   "cell_type": "code",
   "execution_count": 1,
   "metadata": {},
   "outputs": [
    {
     "name": "stdout",
     "output_type": "stream",
     "text": [
      "fix_spacing_s3: [1.68 1.84 1.84]\n",
      "mov_spacing_s3: [1.68 1.84 1.84]\n"
     ]
    },
    {
     "name": "stderr",
     "output_type": "stream",
     "text": [
      "/tmp/ipykernel_3470099/2412824271.py:14: FutureWarning: The N5Store is deprecated and will be removed in a Zarr-Python version 3, see https://github.com/zarr-developers/zarr-python/issues/1274 for more information.\n",
      "  fix_zarr = zarr.open(store=zarr.N5Store(fix_path), mode='r')\n",
      "/tmp/ipykernel_3470099/2412824271.py:23: FutureWarning: The N5Store is deprecated and will be removed in a Zarr-Python version 3, see https://github.com/zarr-developers/zarr-python/issues/1274 for more information.\n",
      "  mov_zarr = zarr.open(store=zarr.N5Store(mov_path), mode='r')\n"
     ]
    }
   ],
   "source": [
    "# reading data and working with arrays\n",
    "import zarr, nrrd\n",
    "import numpy as np\n",
    "\n",
    "# data paths\n",
    "p = '/nrs/scicompsoft/rokicki/flyefish/output'\n",
    "fix_path = p + '/G1_B1_F_R1_Gpb5_488_Eh_546_CCAP_669_1x/stitching/export.n5'\n",
    "mov_path = p + '/G1_B1_F_R2_CCHa1_488_ILP7_546_RyA_669_1x/stitching/export.n5'\n",
    "exp_factor = 1\n",
    "\n",
    "out_p = '/nrs/scicompsoft/rokicki/flyefish/output_bigstream'\n",
    "\n",
    "# load fix data and spacing\n",
    "fix_zarr = zarr.open(store=zarr.N5Store(fix_path), mode='r')\n",
    "fix_meta = fix_zarr.attrs.asdict()\n",
    "fix_spacing = np.array(fix_meta['pixelResolution']['dimensions'][::-1]) / exp_factor\n",
    "fix_spacing_s1 = fix_spacing * [1, 2, 2]\n",
    "fix_spacing_s2 = fix_spacing * [2, 4, 4]\n",
    "fix_spacing_s3 = fix_spacing * [4, 8, 8]\n",
    "print(f\"fix_spacing_s3: {fix_spacing_s3}\")\n",
    "\n",
    "# load mov data and spacing\n",
    "mov_zarr = zarr.open(store=zarr.N5Store(mov_path), mode='r')\n",
    "mov_meta = mov_zarr.attrs.asdict()\n",
    "mov_spacing = np.array(mov_meta['pixelResolution']['dimensions'][::-1]) / exp_factor\n",
    "mov_spacing_s1 = mov_spacing * [1, 2, 2]\n",
    "mov_spacing_s2 = mov_spacing * [2, 4, 4]\n",
    "mov_spacing_s3 = mov_spacing * [4, 8, 8]\n",
    "print(f\"mov_spacing_s3: {mov_spacing_s3}\")\n",
    "\n",
    "# # write some channels\n",
    "# nrrd.write(out_p+'/fix.nrrd', fix_zarr['/c3/s3'][...].transpose(2,1,0), compression_level=2)\n",
    "# nrrd.write(out_p+'/mov.nrrd', mov_zarr['/c3/s3'][...].transpose(2,1,0), compression_level=2)"
   ]
  },
  {
   "cell_type": "markdown",
   "metadata": {
    "tags": []
   },
   "source": [
    "## Masking\n",
    "---"
   ]
  },
  {
   "cell_type": "markdown",
   "metadata": {},
   "source": [
    "### fixed"
   ]
  },
  {
   "cell_type": "code",
   "execution_count": 11,
   "metadata": {
    "tags": []
   },
   "outputs": [],
   "source": [
    "# tools for coarse whole brain segmentation\n",
    "from bigstream import level_set\n",
    "from scipy.ndimage import zoom, binary_closing, binary_dilation\n",
    "\n",
    "# get small mask\n",
    "fix = fix_zarr['/c3/s3'][...]\n",
    "fix_skip = fix[::4, ::4, ::4]\n",
    "skip_spacing = fix_spacing_s3 * [4, 4, 4]\n",
    "fix_mask = level_set.foreground_segmentation(\n",
    "    fix_skip, skip_spacing,\n",
    "    mask_smoothing=1,\n",
    "    iterations=[80,40,10],\n",
    "    smooth_sigmas=[6,3,1.5],\n",
    "    lambda2=16.0,\n",
    "    background=0,\n",
    "    return_largest_cc_only=False\n",
    ")\n",
    "\n",
    "# enlarge and smooth mask\n",
    "fix_mask = binary_closing(fix_mask, np.ones((5,5,5))).astype(np.uint8)\n",
    "fix_mask = binary_dilation(fix_mask, np.ones((5,5,5))).astype(np.uint8)\n",
    "fix_mask = zoom(fix_mask, np.array(fix.shape) / fix_skip.shape, order=0)\n",
    "\n",
    "# write result\n",
    "nrrd.write(out_p+'/fix_mask.nrrd', fix_mask.transpose(2,1,0), compression_level=2)\n",
    "\n",
    "# load precomputed mask\n",
    "fix_mask = nrrd.read(out_p+'/fix_mask.nrrd')[0].transpose(2,1,0)"
   ]
  },
  {
   "cell_type": "markdown",
   "metadata": {},
   "source": [
    "### moving"
   ]
  },
  {
   "cell_type": "code",
   "execution_count": 12,
   "metadata": {
    "tags": []
   },
   "outputs": [],
   "source": [
    "# tools for coarse whole brain segmentation\n",
    "from bigstream import level_set\n",
    "from scipy.ndimage import zoom, binary_closing, binary_dilation\n",
    "\n",
    "# get small mask\n",
    "mov = mov_zarr['/c3/s3'][...]\n",
    "mov_skip = mov[::4, ::4, ::4]\n",
    "skip_spacing = mov_spacing_s3 * [4, 4, 4]\n",
    "\n",
    "mov_mask = level_set.foreground_segmentation(\n",
    "    mov_skip, skip_spacing,\n",
    "    mask_smoothing=1,\n",
    "    iterations=[80,40,10],\n",
    "    smooth_sigmas=[6,3,1.5],\n",
    "    lambda2=16.0,\n",
    "    background=0,\n",
    "    return_largest_cc_only=False\n",
    ")\n",
    "\n",
    "# enlarge and smooth mask\n",
    "mov_mask = binary_closing(mov_mask, np.ones((5,5,5))).astype(np.uint8)\n",
    "mov_mask = binary_dilation(mov_mask, np.ones((5,5,5))).astype(np.uint8)\n",
    "mov_mask = zoom(mov_mask, np.array(mov.shape) / mov_skip.shape, order=0)\n",
    "\n",
    "# save output\n",
    "nrrd.write(out_p+'/mov_mask.nrrd', mov_mask.transpose(2,1,0), compression_level=2)\n",
    "\n",
    "# load precomputed mask\n",
    "mov_mask = nrrd.read(out_p+'/mov_mask.nrrd')[0].transpose(2,1,0)"
   ]
  },
  {
   "cell_type": "markdown",
   "metadata": {
    "tags": []
   },
   "source": [
    "## Alignment\n",
    "---"
   ]
  },
  {
   "cell_type": "markdown",
   "metadata": {
    "tags": []
   },
   "source": [
    "### affine"
   ]
  },
  {
   "cell_type": "code",
   "execution_count": 2,
   "metadata": {
    "tags": []
   },
   "outputs": [
    {
     "name": "stderr",
     "output_type": "stream",
     "text": [
      "/groups/scicompsoft/home/rokickik/.conda/envs/bigstream/lib/python3.11/site-packages/dask/config.py:779: FutureWarning: Dask configuration key 'distributed.comm.recent-messages-log-length' has been deprecated; please use 'distributed.admin.low-level-log-length' instead\n",
      "  warnings.warn(\n",
      "IBM Spectrum LSF 10.1.0.0 build 601088, Apr 15 2022\n",
      "Copyright International Business Machines Corp. 1992, 2016.\n",
      "US Government Users Restricted Rights - Use, duplication or disclosure restricted by GSA ADP Schedule Contract with IBM Corp.\n",
      "\n",
      "  binary type: linux3.10-glibc2.17-x86_64\n"
     ]
    },
    {
     "name": "stdout",
     "output_type": "stream",
     "text": [
      "Wed May 29 08:25:17 2024 Run affine {'initial_condition': 'CENTER', 'alignment_spacing': 4.0, 'shrink_factors': (2,), 'smooth_sigmas': (2.0,), 'optimizer_args': {'learningRate': 0.25, 'minStep': 0.0, 'numberOfIterations': 1200}}\n",
      "LEVEL:  0  ITERATION:  0  METRIC:  -0.031640618539351205\n",
      "LEVEL:  0  ITERATION:  1  METRIC:  -0.03201256079230089\n",
      "LEVEL:  0  ITERATION:  2  METRIC:  -0.03240122384818903\n",
      "LEVEL:  0  ITERATION:  3  METRIC:  -0.03279418425150044\n",
      "LEVEL:  0  ITERATION:  4  METRIC:  -0.03321812864486358\n",
      "LEVEL:  0  ITERATION:  5  METRIC:  -0.033678935262144896\n",
      "LEVEL:  0  ITERATION:  6  METRIC:  -0.034145858519718936\n",
      "LEVEL:  0  ITERATION:  7  METRIC:  -0.03466401268661937\n",
      "LEVEL:  0  ITERATION:  8  METRIC:  -0.03523438725416853\n",
      "LEVEL:  0  ITERATION:  9  METRIC:  -0.03581938169957404\n",
      "LEVEL:  0  ITERATION:  10  METRIC:  -0.03639288319154232\n",
      "LEVEL:  0  ITERATION:  11  METRIC:  -0.03696623117577791\n",
      "LEVEL:  0  ITERATION:  12  METRIC:  -0.0375401775749682\n",
      "LEVEL:  0  ITERATION:  13  METRIC:  -0.03809860503424893\n",
      "LEVEL:  0  ITERATION:  14  METRIC:  -0.03862414657384053\n",
      "LEVEL:  0  ITERATION:  15  METRIC:  -0.03911543270471982\n",
      "LEVEL:  0  ITERATION:  16  METRIC:  -0.039580883692895676\n",
      "LEVEL:  0  ITERATION:  17  METRIC:  -0.04004512404355959\n",
      "LEVEL:  0  ITERATION:  18  METRIC:  -0.040531700398908854\n",
      "LEVEL:  0  ITERATION:  19  METRIC:  -0.041049689566340385\n",
      "LEVEL:  0  ITERATION:  20  METRIC:  -0.041595898833162843\n",
      "LEVEL:  0  ITERATION:  21  METRIC:  -0.042165820194909255\n",
      "LEVEL:  0  ITERATION:  22  METRIC:  -0.042769823376363356\n",
      "LEVEL:  0  ITERATION:  23  METRIC:  -0.043414077322471344\n",
      "LEVEL:  0  ITERATION:  24  METRIC:  -0.044086923353201586\n",
      "LEVEL:  0  ITERATION:  25  METRIC:  -0.04475353101008697\n",
      "LEVEL:  0  ITERATION:  26  METRIC:  -0.04539646865823007\n",
      "LEVEL:  0  ITERATION:  27  METRIC:  -0.046033670111761654\n",
      "LEVEL:  0  ITERATION:  28  METRIC:  -0.04667156919851496\n",
      "LEVEL:  0  ITERATION:  29  METRIC:  -0.047312506361569764\n",
      "LEVEL:  0  ITERATION:  30  METRIC:  -0.04795398903988702\n",
      "LEVEL:  0  ITERATION:  31  METRIC:  -0.04858816557281218\n",
      "LEVEL:  0  ITERATION:  32  METRIC:  -0.0492061596592725\n",
      "LEVEL:  0  ITERATION:  33  METRIC:  -0.04980495396819827\n",
      "LEVEL:  0  ITERATION:  34  METRIC:  -0.05038832964334454\n",
      "LEVEL:  0  ITERATION:  35  METRIC:  -0.05095633290116876\n",
      "LEVEL:  0  ITERATION:  36  METRIC:  -0.0515271857741841\n",
      "LEVEL:  0  ITERATION:  37  METRIC:  -0.052105013834676056\n",
      "LEVEL:  0  ITERATION:  38  METRIC:  -0.05269449054564003\n",
      "LEVEL:  0  ITERATION:  39  METRIC:  -0.053292121290927766\n",
      "LEVEL:  0  ITERATION:  40  METRIC:  -0.053895091208059874\n",
      "LEVEL:  0  ITERATION:  41  METRIC:  -0.05451337629420757\n",
      "LEVEL:  0  ITERATION:  42  METRIC:  -0.05513612049822805\n",
      "LEVEL:  0  ITERATION:  43  METRIC:  -0.055751195393628154\n",
      "LEVEL:  0  ITERATION:  44  METRIC:  -0.05635308964236924\n",
      "LEVEL:  0  ITERATION:  45  METRIC:  -0.05693151716842301\n",
      "LEVEL:  0  ITERATION:  46  METRIC:  -0.057488022631355766\n",
      "LEVEL:  0  ITERATION:  47  METRIC:  -0.05802659849172697\n",
      "LEVEL:  0  ITERATION:  48  METRIC:  -0.05855319435058098\n",
      "LEVEL:  0  ITERATION:  49  METRIC:  -0.05906618310090629\n",
      "LEVEL:  0  ITERATION:  50  METRIC:  -0.05956625981066189\n",
      "LEVEL:  0  ITERATION:  51  METRIC:  -0.06005213120817121\n",
      "LEVEL:  0  ITERATION:  52  METRIC:  -0.06052782109089488\n",
      "LEVEL:  0  ITERATION:  53  METRIC:  -0.06099262441997273\n",
      "LEVEL:  0  ITERATION:  54  METRIC:  -0.06143852213983969\n",
      "LEVEL:  0  ITERATION:  55  METRIC:  -0.06186225159110557\n",
      "LEVEL:  0  ITERATION:  56  METRIC:  -0.06225780558438841\n",
      "LEVEL:  0  ITERATION:  57  METRIC:  -0.06262761530484387\n",
      "LEVEL:  0  ITERATION:  58  METRIC:  -0.0629748608570892\n",
      "LEVEL:  0  ITERATION:  59  METRIC:  -0.06330304606053062\n",
      "LEVEL:  0  ITERATION:  60  METRIC:  -0.06361228439894387\n",
      "LEVEL:  0  ITERATION:  61  METRIC:  -0.06390699685735425\n",
      "LEVEL:  0  ITERATION:  62  METRIC:  -0.06419268079566036\n",
      "LEVEL:  0  ITERATION:  63  METRIC:  -0.06446806236624412\n",
      "LEVEL:  0  ITERATION:  64  METRIC:  -0.06473999823878114\n",
      "LEVEL:  0  ITERATION:  65  METRIC:  -0.06502421865986872\n",
      "LEVEL:  0  ITERATION:  66  METRIC:  -0.0653389277070295\n",
      "LEVEL:  0  ITERATION:  67  METRIC:  -0.06570244985557097\n",
      "LEVEL:  0  ITERATION:  68  METRIC:  -0.06612996311501186\n",
      "LEVEL:  0  ITERATION:  69  METRIC:  -0.06661654673160598\n",
      "LEVEL:  0  ITERATION:  70  METRIC:  -0.06713617647852582\n",
      "LEVEL:  0  ITERATION:  71  METRIC:  -0.06765429792749925\n",
      "LEVEL:  0  ITERATION:  72  METRIC:  -0.06818835624784027\n",
      "LEVEL:  0  ITERATION:  73  METRIC:  -0.06873873769944967\n",
      "LEVEL:  0  ITERATION:  74  METRIC:  -0.06929359328590798\n",
      "LEVEL:  0  ITERATION:  75  METRIC:  -0.06984602519101123\n",
      "LEVEL:  0  ITERATION:  76  METRIC:  -0.07040959118617734\n",
      "LEVEL:  0  ITERATION:  77  METRIC:  -0.07097088749532883\n",
      "LEVEL:  0  ITERATION:  78  METRIC:  -0.07153263880785911\n",
      "LEVEL:  0  ITERATION:  79  METRIC:  -0.07209357738104558\n",
      "LEVEL:  0  ITERATION:  80  METRIC:  -0.07266161841474879\n",
      "LEVEL:  0  ITERATION:  81  METRIC:  -0.07323540470514424\n",
      "LEVEL:  0  ITERATION:  82  METRIC:  -0.07382106456732955\n",
      "LEVEL:  0  ITERATION:  83  METRIC:  -0.0744057711455876\n",
      "LEVEL:  0  ITERATION:  84  METRIC:  -0.07498875492281412\n",
      "LEVEL:  0  ITERATION:  85  METRIC:  -0.07556922929225784\n",
      "LEVEL:  0  ITERATION:  86  METRIC:  -0.07614840376933188\n",
      "LEVEL:  0  ITERATION:  87  METRIC:  -0.07672481119165067\n",
      "LEVEL:  0  ITERATION:  88  METRIC:  -0.07730073463520237\n",
      "LEVEL:  0  ITERATION:  89  METRIC:  -0.07788377820413572\n",
      "LEVEL:  0  ITERATION:  90  METRIC:  -0.07847992869295771\n",
      "LEVEL:  0  ITERATION:  91  METRIC:  -0.07907461646084962\n",
      "LEVEL:  0  ITERATION:  92  METRIC:  -0.07966270974979571\n",
      "LEVEL:  0  ITERATION:  93  METRIC:  -0.0802618531257293\n",
      "LEVEL:  0  ITERATION:  94  METRIC:  -0.08087835917360421\n",
      "LEVEL:  0  ITERATION:  95  METRIC:  -0.08149139267858976\n",
      "LEVEL:  0  ITERATION:  96  METRIC:  -0.08210096914989194\n",
      "LEVEL:  0  ITERATION:  97  METRIC:  -0.08270187300837\n",
      "LEVEL:  0  ITERATION:  98  METRIC:  -0.08329480399351682\n",
      "LEVEL:  0  ITERATION:  99  METRIC:  -0.08388061124130773\n",
      "LEVEL:  0  ITERATION:  100  METRIC:  -0.08446305905277901\n",
      "LEVEL:  0  ITERATION:  101  METRIC:  -0.0850452803477517\n",
      "LEVEL:  0  ITERATION:  102  METRIC:  -0.08563017475976951\n",
      "LEVEL:  0  ITERATION:  103  METRIC:  -0.08622139291548317\n",
      "LEVEL:  0  ITERATION:  104  METRIC:  -0.0868179517598429\n",
      "LEVEL:  0  ITERATION:  105  METRIC:  -0.08741145317206657\n",
      "LEVEL:  0  ITERATION:  106  METRIC:  -0.08799790959385453\n",
      "LEVEL:  0  ITERATION:  107  METRIC:  -0.08858180014976862\n",
      "LEVEL:  0  ITERATION:  108  METRIC:  -0.08916059842092877\n",
      "LEVEL:  0  ITERATION:  109  METRIC:  -0.08973667460991648\n",
      "LEVEL:  0  ITERATION:  110  METRIC:  -0.09031065597259212\n",
      "LEVEL:  0  ITERATION:  111  METRIC:  -0.09088099549228229\n",
      "LEVEL:  0  ITERATION:  112  METRIC:  -0.09144342722771422\n",
      "LEVEL:  0  ITERATION:  113  METRIC:  -0.09199862605748683\n",
      "LEVEL:  0  ITERATION:  114  METRIC:  -0.09254753510168268\n",
      "LEVEL:  0  ITERATION:  115  METRIC:  -0.0930913066387649\n",
      "LEVEL:  0  ITERATION:  116  METRIC:  -0.09363191049436091\n",
      "LEVEL:  0  ITERATION:  117  METRIC:  -0.09416980354566237\n",
      "LEVEL:  0  ITERATION:  118  METRIC:  -0.09470467608474538\n",
      "LEVEL:  0  ITERATION:  119  METRIC:  -0.09523661760162301\n",
      "LEVEL:  0  ITERATION:  120  METRIC:  -0.09576552036725193\n",
      "LEVEL:  0  ITERATION:  121  METRIC:  -0.09628984390327087\n",
      "LEVEL:  0  ITERATION:  122  METRIC:  -0.09680494619379443\n",
      "LEVEL:  0  ITERATION:  123  METRIC:  -0.09731063275214046\n",
      "LEVEL:  0  ITERATION:  124  METRIC:  -0.09780962357895592\n",
      "LEVEL:  0  ITERATION:  125  METRIC:  -0.0983044357870704\n",
      "LEVEL:  0  ITERATION:  126  METRIC:  -0.0987942453015503\n",
      "LEVEL:  0  ITERATION:  127  METRIC:  -0.09928024932107625\n",
      "LEVEL:  0  ITERATION:  128  METRIC:  -0.09976029525230921\n",
      "LEVEL:  0  ITERATION:  129  METRIC:  -0.10023239976880176\n",
      "LEVEL:  0  ITERATION:  130  METRIC:  -0.1006952405149133\n",
      "LEVEL:  0  ITERATION:  131  METRIC:  -0.10114644790419361\n",
      "LEVEL:  0  ITERATION:  132  METRIC:  -0.10158790467132763\n",
      "LEVEL:  0  ITERATION:  133  METRIC:  -0.10202110295437805\n",
      "LEVEL:  0  ITERATION:  134  METRIC:  -0.10244727224167059\n",
      "LEVEL:  0  ITERATION:  135  METRIC:  -0.10286526937865509\n",
      "LEVEL:  0  ITERATION:  136  METRIC:  -0.10327523555484584\n",
      "LEVEL:  0  ITERATION:  137  METRIC:  -0.1036770175945899\n",
      "LEVEL:  0  ITERATION:  138  METRIC:  -0.10407031496983901\n",
      "LEVEL:  0  ITERATION:  139  METRIC:  -0.10445414358905775\n",
      "LEVEL:  0  ITERATION:  140  METRIC:  -0.1048294055614394\n",
      "LEVEL:  0  ITERATION:  141  METRIC:  -0.10519517743814165\n",
      "LEVEL:  0  ITERATION:  142  METRIC:  -0.10555352228779326\n",
      "LEVEL:  0  ITERATION:  143  METRIC:  -0.10590191460484849\n",
      "LEVEL:  0  ITERATION:  144  METRIC:  -0.10624312388666703\n",
      "LEVEL:  0  ITERATION:  145  METRIC:  -0.1065742292664196\n",
      "LEVEL:  0  ITERATION:  146  METRIC:  -0.10689805948196876\n",
      "LEVEL:  0  ITERATION:  147  METRIC:  -0.10721178857263364\n",
      "LEVEL:  0  ITERATION:  148  METRIC:  -0.10751871006617132\n",
      "LEVEL:  0  ITERATION:  149  METRIC:  -0.10781333889961744\n",
      "LEVEL:  0  ITERATION:  150  METRIC:  -0.10810443047768473\n",
      "LEVEL:  0  ITERATION:  151  METRIC:  -0.10837273486992059\n",
      "LEVEL:  0  ITERATION:  152  METRIC:  -0.10863991254672069\n",
      "LEVEL:  0  ITERATION:  153  METRIC:  -0.10883282645875546\n",
      "LEVEL:  0  ITERATION:  154  METRIC:  -0.10902133321986615\n",
      "LEVEL:  0  ITERATION:  155  METRIC:  -0.10910604535914653\n",
      "LEVEL:  0  ITERATION:  156  METRIC:  -0.10922873901345018\n",
      "LEVEL:  0  ITERATION:  157  METRIC:  -0.10935498592044286\n",
      "LEVEL:  0  ITERATION:  158  METRIC:  -0.10947671459930443\n",
      "LEVEL:  0  ITERATION:  159  METRIC:  -0.10959767655236145\n",
      "LEVEL:  0  ITERATION:  160  METRIC:  -0.10971575710339843\n",
      "LEVEL:  0  ITERATION:  161  METRIC:  -0.10983242564666512\n",
      "LEVEL:  0  ITERATION:  162  METRIC:  -0.10994667496374783\n",
      "LEVEL:  0  ITERATION:  163  METRIC:  -0.110059477909732\n",
      "LEVEL:  0  ITERATION:  164  METRIC:  -0.11016999901545202\n",
      "LEVEL:  0  ITERATION:  165  METRIC:  -0.11027844152304132\n",
      "LEVEL:  0  ITERATION:  166  METRIC:  -0.11038451812557105\n",
      "LEVEL:  0  ITERATION:  167  METRIC:  -0.11048918006306073\n",
      "LEVEL:  0  ITERATION:  168  METRIC:  -0.11059185617459735\n",
      "LEVEL:  0  ITERATION:  169  METRIC:  -0.11069194887049887\n",
      "LEVEL:  0  ITERATION:  170  METRIC:  -0.11079008048022274\n",
      "LEVEL:  0  ITERATION:  171  METRIC:  -0.11088626024987995\n",
      "LEVEL:  0  ITERATION:  172  METRIC:  -0.11097946390952719\n",
      "LEVEL:  0  ITERATION:  173  METRIC:  -0.11107099691914284\n",
      "LEVEL:  0  ITERATION:  174  METRIC:  -0.11115993931610096\n",
      "LEVEL:  0  ITERATION:  175  METRIC:  -0.11124715587881162\n",
      "LEVEL:  0  ITERATION:  176  METRIC:  -0.11133133646167404\n",
      "LEVEL:  0  ITERATION:  177  METRIC:  -0.11141343124878442\n",
      "LEVEL:  0  ITERATION:  178  METRIC:  -0.11149198816211825\n",
      "LEVEL:  0  ITERATION:  179  METRIC:  -0.11156668644461408\n",
      "LEVEL:  0  ITERATION:  180  METRIC:  -0.11163073390741393\n",
      "LEVEL:  0  ITERATION:  181  METRIC:  -0.11169264531846423\n",
      "LEVEL:  0  ITERATION:  182  METRIC:  -0.1117356626659159\n",
      "LEVEL:  0  ITERATION:  183  METRIC:  -0.11176860807743613\n",
      "LEVEL:  0  ITERATION:  184  METRIC:  -0.1118032899768845\n",
      "LEVEL:  0  ITERATION:  185  METRIC:  -0.11183731903923372\n",
      "LEVEL:  0  ITERATION:  186  METRIC:  -0.1118713921633308\n",
      "LEVEL:  0  ITERATION:  187  METRIC:  -0.11190453096664625\n",
      "LEVEL:  0  ITERATION:  188  METRIC:  -0.11193727411648571\n",
      "LEVEL:  0  ITERATION:  189  METRIC:  -0.11196937033611054\n",
      "LEVEL:  0  ITERATION:  190  METRIC:  -0.11200087158696519\n",
      "LEVEL:  0  ITERATION:  191  METRIC:  -0.11203168921750424\n",
      "LEVEL:  0  ITERATION:  192  METRIC:  -0.11206209081471827\n",
      "LEVEL:  0  ITERATION:  193  METRIC:  -0.1120917343339658\n",
      "LEVEL:  0  ITERATION:  194  METRIC:  -0.1121206590230324\n",
      "LEVEL:  0  ITERATION:  195  METRIC:  -0.11214936919500035\n",
      "LEVEL:  0  ITERATION:  196  METRIC:  -0.1121771399113546\n",
      "LEVEL:  0  ITERATION:  197  METRIC:  -0.11220447751900935\n",
      "LEVEL:  0  ITERATION:  198  METRIC:  -0.1122314229443755\n",
      "LEVEL:  0  ITERATION:  199  METRIC:  -0.11225757691400279\n",
      "LEVEL:  0  ITERATION:  200  METRIC:  -0.11228270058143047\n",
      "LEVEL:  0  ITERATION:  201  METRIC:  -0.11230843829395884\n",
      "LEVEL:  0  ITERATION:  202  METRIC:  -0.11233308832615956\n",
      "LEVEL:  0  ITERATION:  203  METRIC:  -0.11235672330504999\n",
      "LEVEL:  0  ITERATION:  204  METRIC:  -0.11237988221084318\n",
      "LEVEL:  0  ITERATION:  205  METRIC:  -0.11240288861762322\n",
      "LEVEL:  0  ITERATION:  206  METRIC:  -0.11242548667241228\n",
      "LEVEL:  0  ITERATION:  207  METRIC:  -0.1124469881553722\n",
      "LEVEL:  0  ITERATION:  208  METRIC:  -0.1124681312011574\n",
      "LEVEL:  0  ITERATION:  209  METRIC:  -0.11248803348628306\n",
      "LEVEL:  0  ITERATION:  210  METRIC:  -0.11250821348161706\n",
      "LEVEL:  0  ITERATION:  211  METRIC:  -0.11252641747341878\n",
      "LEVEL:  0  ITERATION:  212  METRIC:  -0.1125463124734563\n",
      "LEVEL:  0  ITERATION:  213  METRIC:  -0.11255989819032075\n",
      "LEVEL:  0  ITERATION:  214  METRIC:  -0.11257974934151271\n",
      "LEVEL:  0  ITERATION:  215  METRIC:  -0.11258271355019889\n",
      "LEVEL:  0  ITERATION:  216  METRIC:  -0.11259331340626935\n",
      "Wed May 29 08:25:47 2024 Registration succeeded\n"
     ]
    }
   ],
   "source": [
    "# alignment functions\n",
    "from bigstream.align import alignment_pipeline\n",
    "from bigstream.transform import apply_transform\n",
    "\n",
    "# get global alignment channels\n",
    "fix = fix_zarr['/c3/s3'][...]\n",
    "mov = mov_zarr['/c3/s3'][...]\n",
    "\n",
    "# define alignment steps\n",
    "affine_kwargs = {\n",
    "    'initial_condition':'CENTER',\n",
    "    'alignment_spacing':4.0, # increase this to throw out data\n",
    "    'shrink_factors':(2,),\n",
    "    'smooth_sigmas':(2.,),\n",
    "    'optimizer_args':{\n",
    "        'learningRate':0.25,\n",
    "        'minStep':0.,\n",
    "        'numberOfIterations':1200,\n",
    "    },\n",
    "}\n",
    "\n",
    "steps = [('affine', affine_kwargs,)]\n",
    "\n",
    "# align\n",
    "affine = alignment_pipeline(\n",
    "    fix, mov, fix_spacing_s3, mov_spacing_s3,\n",
    "    steps,\n",
    "    # fix_mask=fix_mask,\n",
    "    # mov_mask=mov_mask,\n",
    ")\n",
    "\n",
    "# apply affine only\n",
    "affine_aligned = apply_transform(\n",
    "    fix, mov,\n",
    "    fix_spacing_s3, mov_spacing_s3,\n",
    "    transform_list=[affine,],\n",
    ")\n",
    "\n",
    "# write results\n",
    "np.savetxt(out_p+'/affine.mat', affine)\n",
    "nrrd.write(out_p+'/affine.nrrd', affine_aligned.transpose(2,1,0), compression_level=2)\n",
    "\n",
    "# load precomputed results\n",
    "affine = np.loadtxt(out_p+'/affine.mat')"
   ]
  },
  {
   "cell_type": "code",
   "execution_count": 2,
   "metadata": {},
   "outputs": [],
   "source": [
    "# load precomputed results\n",
    "affine = np.loadtxt(out_p+'/affine.mat')"
   ]
  },
  {
   "cell_type": "markdown",
   "metadata": {},
   "source": [
    "### deform"
   ]
  },
  {
   "cell_type": "code",
   "execution_count": 3,
   "metadata": {},
   "outputs": [
    {
     "name": "stderr",
     "output_type": "stream",
     "text": [
      "/groups/scicompsoft/home/rokickik/.conda/envs/bigstream/lib/python3.11/site-packages/dask/config.py:779: FutureWarning: Dask configuration key 'distributed.comm.recent-messages-log-length' has been deprecated; please use 'distributed.admin.low-level-log-length' instead\n",
      "  warnings.warn(\n",
      "IBM Spectrum LSF 10.1.0.0 build 601088, Apr 15 2022\n",
      "Copyright International Business Machines Corp. 1992, 2016.\n",
      "US Government Users Restricted Rights - Use, duplication or disclosure restricted by GSA ADP Schedule Contract with IBM Corp.\n",
      "\n",
      "  binary type: linux3.10-glibc2.17-x86_64\n"
     ]
    },
    {
     "name": "stdout",
     "output_type": "stream",
     "text": [
      "Cluster dashboard link:  http://10.40.4.195:8787/status\n",
      "Cluster adapting between 10 and 200 workers with 1 cores per worker\n",
      "*** This cluster has an upper bound cost of 14.0 dollars per hour ***\n"
     ]
    },
    {
     "name": "stderr",
     "output_type": "stream",
     "text": [
      "2024-05-29 15:31:42,967 - distributed.deploy.adaptive_core - INFO - Adaptive stop\n"
     ]
    },
    {
     "name": "stdout",
     "output_type": "stream",
     "text": [
      "CPU times: user 6min 58s, sys: 25.3 s, total: 7min 23s\n",
      "Wall time: 1h 1min 40s\n"
     ]
    }
   ],
   "source": [
    "%%time\n",
    "from bigstream.piecewise_align import distributed_piecewise_alignment_pipeline\n",
    "\n",
    "# FASTER\n",
    "\n",
    "# get full resolution data\n",
    "fix = fix_zarr['/c3/s2']\n",
    "mov = mov_zarr['/c3/s2']\n",
    "\n",
    "# define alignment steps\n",
    "affine_kwargs = {\n",
    "    'smooth_sigmas':(0.25,),\n",
    "    'optimizer_args':{\n",
    "        'learningRate':0.25,\n",
    "        'minStep':0.,\n",
    "        'numberOfIterations':150,\n",
    "    },\n",
    "    \"alignment_spacing\": 2.0,\n",
    "}\n",
    "\n",
    "deform_kwargs = {\n",
    "    'smooth_sigmas':(0.25,),\n",
    "    'control_point_spacing':50.0,\n",
    "    'control_point_levels':(1,),\n",
    "    'optimizer_args':{\n",
    "        'learningRate':2.5,\n",
    "        'minStep':0.,\n",
    "        'numberOfIterations':25,\n",
    "    },\n",
    "    \"alignment_spacing\": 2.0,\n",
    "}\n",
    "\n",
    "cluster_kwargs={\n",
    "    'walltime':'11:59',\n",
    "    'project':'scicompsoft',\n",
    "    'ncpus':1,\n",
    "    'threads':1,\n",
    "    'min_workers':10,\n",
    "    'max_workers':200,\n",
    "    'death_timeout':1200,\n",
    "    'config':{\n",
    "        'distributed.worker.memory.target':0.9,\n",
    "        'distributed.worker.memory.spill':0.9,\n",
    "        'distributed.worker.memory.pause':0.9,\n",
    "        'distributed.comm.retry.count':10,\n",
    "        'distributed.comm.timeouts.connect':'600s',\n",
    "        'distributed.scheduler.unknown-task-duration':'60m',\n",
    "    },\n",
    "}\n",
    "\n",
    "steps = [ ('affine', affine_kwargs,), ('deform', deform_kwargs,), ]\n",
    "\n",
    "# deform\n",
    "deform = distributed_piecewise_alignment_pipeline(\n",
    "    fix, mov, fix_spacing_s2, mov_spacing_s2,\n",
    "    steps=steps,\n",
    "    blocksize=[128, 128, 128],\n",
    "    # fix_mask=fix_mask,\n",
    "    # mov_mask=mov_mask,\n",
    "    static_transform_list=[affine,],\n",
    "    write_path=out_p+'/deform.zarr',\n",
    "    cluster_kwargs=cluster_kwargs,\n",
    ")\n",
    "\n",
    "# read already saved result\n",
    "deform = zarr.open(out_p+'/deform.zarr', mode='r')"
   ]
  },
  {
   "cell_type": "markdown",
   "metadata": {},
   "source": [
    "### invert"
   ]
  },
  {
   "cell_type": "code",
   "execution_count": 2,
   "metadata": {},
   "outputs": [
    {
     "name": "stderr",
     "output_type": "stream",
     "text": [
      "IBM Spectrum LSF 10.1.0.0 build 601088, Apr 15 2022\n",
      "Copyright International Business Machines Corp. 1992, 2016.\n",
      "US Government Users Restricted Rights - Use, duplication or disclosure restricted by GSA ADP Schedule Contract with IBM Corp.\n",
      "\n",
      "  binary type: linux3.10-glibc2.17-x86_64\n"
     ]
    }
   ],
   "source": [
    "from bigstream.piecewise_transform import distributed_invert_displacement_vector_field\n",
    "\n",
    "# # invert affine\n",
    "# affine_inv = np.linalg.inv(affine)\n",
    "# np.savetxt(out_p+'/affine_inverse.mat', affine_inv)\n",
    "\n",
    "# # invert deform\n",
    "# deform_inv = distributed_invert_displacement_vector_field(\n",
    "#     deform,\n",
    "#     fix_spacing_s1,\n",
    "#     blocksize=(256,)*3,\n",
    "#     write_path=out_p+'/deform_inverse.zarr',\n",
    "#     cluster_kwargs={\n",
    "#         'project':'ahrens',\n",
    "#         'ncpus':1,\n",
    "#         'threads':1,\n",
    "#         'min_workers':20,\n",
    "#         'max_workers':200,\n",
    "#     },\n",
    "# )\n",
    "\n",
    "# load precomputed results\n",
    "affine_inv = np.loadtxt(out_p+'/affine_inverse.mat')\n",
    "deform_inv = zarr.open(out_p+'/deform_inverse.zarr', mode='r')"
   ]
  },
  {
   "cell_type": "markdown",
   "metadata": {
    "tags": []
   },
   "source": [
    "## Resampling\n",
    "---"
   ]
  },
  {
   "cell_type": "markdown",
   "metadata": {},
   "source": [
    "### move image data"
   ]
  },
  {
   "cell_type": "code",
   "execution_count": 4,
   "metadata": {},
   "outputs": [
    {
     "name": "stdout",
     "output_type": "stream",
     "text": [
      "Cluster dashboard link:  http://10.40.4.195:8787/status\n",
      "Cluster adapting between 20 and 100 workers with 1 cores per worker\n",
      "*** This cluster has an upper bound cost of 7.0 dollars per hour ***\n"
     ]
    },
    {
     "name": "stderr",
     "output_type": "stream",
     "text": [
      "2024-05-29 15:35:39,781 - distributed.deploy.adaptive_core - INFO - Adaptive stop\n"
     ]
    },
    {
     "name": "stdout",
     "output_type": "stream",
     "text": [
      "Cluster dashboard link:  http://10.40.4.195:8787/status\n",
      "Cluster adapting between 20 and 100 workers with 1 cores per worker\n",
      "*** This cluster has an upper bound cost of 7.0 dollars per hour ***\n"
     ]
    },
    {
     "name": "stderr",
     "output_type": "stream",
     "text": [
      "2024-05-29 15:37:10,412 - distributed.deploy.adaptive_core - INFO - Adaptive stop\n"
     ]
    },
    {
     "name": "stdout",
     "output_type": "stream",
     "text": [
      "Cluster dashboard link:  http://10.40.4.195:8787/status\n",
      "Cluster adapting between 20 and 100 workers with 1 cores per worker\n",
      "*** This cluster has an upper bound cost of 7.0 dollars per hour ***\n"
     ]
    },
    {
     "name": "stderr",
     "output_type": "stream",
     "text": [
      "2024-05-29 15:38:35,561 - distributed.deploy.adaptive_core - INFO - Adaptive stop\n"
     ]
    },
    {
     "name": "stdout",
     "output_type": "stream",
     "text": [
      "Cluster dashboard link:  http://10.40.4.195:8787/status\n",
      "Cluster adapting between 20 and 100 workers with 1 cores per worker\n",
      "*** This cluster has an upper bound cost of 7.0 dollars per hour ***\n"
     ]
    },
    {
     "name": "stderr",
     "output_type": "stream",
     "text": [
      "2024-05-29 15:40:01,659 - distributed.deploy.adaptive_core - INFO - Adaptive stop\n"
     ]
    }
   ],
   "source": [
    "from bigstream.piecewise_transform import distributed_apply_transform\n",
    "\n",
    "# define cluster settings and parameters\n",
    "cluster_kwargs={\n",
    "    'project':'scicompsoft',\n",
    "    'ncpus':1,\n",
    "    'threads':1,\n",
    "    'min_workers':20,\n",
    "    'max_workers':100,\n",
    "}\n",
    "blocksize = (64,)*3\n",
    "channels = ['c3', 'c2', 'c1', 'c0']\n",
    "\n",
    "# s3 channels\n",
    "fix = fix_zarr['/c3/s3']\n",
    "for channel in channels:\n",
    "    mov = mov_zarr[f'/{channel}/s3']\n",
    "    aligned = distributed_apply_transform(\n",
    "        fix, mov, fix_spacing_s3, mov_spacing_s3,\n",
    "        transform_list=[affine, deform,],\n",
    "        transform_spacing=fix_spacing*[2,4,4],\n",
    "        blocksize=blocksize,\n",
    "        cluster_kwargs=cluster_kwargs\n",
    "    )\n",
    "    nrrd.write(out_p+f'/r2{channel}s3_aligned_to_r1.nrrd', aligned.transpose(2,1,0), compression_level=2)\n"
   ]
  },
  {
   "cell_type": "markdown",
   "metadata": {},
   "source": [
    "### move spots"
   ]
  },
  {
   "cell_type": "code",
   "execution_count": 3,
   "metadata": {},
   "outputs": [
    {
     "name": "stdout",
     "output_type": "stream",
     "text": [
      "Cluster dashboard link:  http://10.36.60.20:8787/status\n",
      "Cluster adapting between 10 and 10 workers with 1 cores per worker\n",
      "*** This cluster has an upper bound cost of 0.7 dollars per hour ***\n"
     ]
    },
    {
     "name": "stderr",
     "output_type": "stream",
     "text": [
      "/groups/scicompsoft/home/fleishmang/bin/miniconda3/envs/bigstream/lib/python3.10/site-packages/distributed/client.py:3169: UserWarning: Sending large graph of size 77.39 MiB.\n",
      "This may cause some slowdown.\n",
      "Consider scattering data ahead of time and using futures.\n",
      "  warnings.warn(\n",
      "2024-05-08 22:19:51,990 - distributed.deploy.adaptive_core - INFO - Adaptive stop\n"
     ]
    },
    {
     "name": "stdout",
     "output_type": "stream",
     "text": [
      "Cluster dashboard link:  http://10.36.60.20:8787/status\n",
      "Cluster adapting between 10 and 10 workers with 1 cores per worker\n",
      "*** This cluster has an upper bound cost of 0.7 dollars per hour ***\n"
     ]
    },
    {
     "name": "stderr",
     "output_type": "stream",
     "text": [
      "/groups/scicompsoft/home/fleishmang/bin/miniconda3/envs/bigstream/lib/python3.10/site-packages/distributed/client.py:3169: UserWarning: Sending large graph of size 98.25 MiB.\n",
      "This may cause some slowdown.\n",
      "Consider scattering data ahead of time and using futures.\n",
      "  warnings.warn(\n",
      "2024-05-08 22:43:15,651 - distributed.deploy.adaptive_core - INFO - Adaptive stop\n"
     ]
    }
   ],
   "source": [
    "# ### EML: This has not been done yet\n",
    "from bigstream.piecewise_transform import distributed_apply_transform_to_coordinates\n",
    "\n",
    "# define cluster settings and partition\n",
    "cluster_kwargs = {\n",
    "    'project':'ahrens',\n",
    "    'ncpus':1,\n",
    "    'threads':1,\n",
    "    'min_workers':10,\n",
    "    'max_workers':10,\n",
    "}\n",
    "partition_size = 50.\n",
    "# channels = ['c0', 'c1', 'c2',]\n",
    "channels = ['c1', 'c2',]\n",
    "\n",
    "# warp all spots\n",
    "for channel in channels:\n",
    "    spots = np.loadtxt(p+ f'/R1/spot_detection/{channel}_spots.txt')\n",
    "    spots[:, :3] = distributed_apply_transform_to_coordinates(\n",
    "        spots[:, :3], [deform_inv, affine_inv],\n",
    "        partition_size=partition_size,\n",
    "        transform_spacing=fix_spacing_s1,\n",
    "        cluster_kwargs=cluster_kwargs\n",
    "    )\n",
    "    np.savetxt(out_p+f'/r2{channel}_spots_warped_to_r1.txt', spots)"
   ]
  }
 ],
 "metadata": {
  "kernelspec": {
   "display_name": "bigstream_test",
   "language": "python",
   "name": "python3"
  },
  "language_info": {
   "codemirror_mode": {
    "name": "ipython",
    "version": 3
   },
   "file_extension": ".py",
   "mimetype": "text/x-python",
   "name": "python",
   "nbconvert_exporter": "python",
   "pygments_lexer": "ipython3",
   "version": "3.11.9"
  }
 },
 "nbformat": 4,
 "nbformat_minor": 4
}
