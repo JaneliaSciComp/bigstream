{
 "cells": [
  {
   "cell_type": "markdown",
   "metadata": {
    "tags": []
   },
   "source": [
    "## Inputs\n",
    "---"
   ]
  },
  {
   "cell_type": "code",
   "execution_count": null,
   "metadata": {},
   "outputs": [],
   "source": [
    "# reading data and working with arrays\n",
    "import os\n",
    "import zarr, nrrd\n",
    "import numpy as np\n",
    "import os\n",
    "\n",
    "# data paths\n",
    "p = '/Users/goinac/Work/HHMI/bioimagetools/nextflow-modules/mylocal/bigstream-testdata3'\n",
    "fix_path = p + '/fix.n5'\n",
    "ref_ch = 'c0'\n",
    "fix_s0_subpath = f'{ref_ch}/s0'\n",
    "mov_path = p + '/mov.n5'\n",
    "mov_s0_subpath = f'{ref_ch}/s0'\n",
    "exp_factor = 1\n",
    "\n",
    "out_p = '/Users/goinac/Work/HHMI/bioimagetools/nextflow-modules/mylocal/results/bigstream-python'\n",
    "os.makedirs(out_p, exist_ok=True)\n",
    "\n",
    "# load fix data and spacing\n",
    "fix_zarr = zarr.open(store=zarr.N5Store(fix_path), mode='r')\n",
    "fix_meta = fix_zarr[fix_s0_subpath].attrs.asdict()\n",
    "print(f'Fix attrs: {fix_meta}')\n",
    "\n",
    "# load mov data and spacing\n",
    "mov_zarr = zarr.open(store=zarr.N5Store(mov_path), mode='r')\n",
    "mov_meta = mov_zarr[mov_s0_subpath].attrs.asdict()\n",
    "print(f'Mov attrs: {mov_meta}')\n"
   ]
  },
  {
   "cell_type": "code",
   "execution_count": null,
   "metadata": {},
   "outputs": [],
   "source": [
    "!mkdir -p /Users/goinac/Work/HHMI/bioimagetools/nextflow-modules/mylocal/results/bigstream-test\n",
    "\n",
    "!python ../scripts/main_global_align_pipeline.py \\\n",
    "    --global-fix /Users/goinac/Work/HHMI/bioimagetools/nextflow-modules/mylocal/bigstream-testdata3/fix.n5 \\\n",
    "    --global-fix-subpath c0/s0 \\\n",
    "    --global-mov /Users/goinac/Work/HHMI/bioimagetools/nextflow-modules/mylocal/bigstream-testdata3/mov.n5 \\\n",
    "    --global-mov-subpath c0/s0 \\\n",
    "    --global-registration-steps ransac,affine \\\n",
    "    --align-config /Users/goinac/Work/HHMI/bioimagetools/nextflow-modules/tests/subworkflows/janelia/bigstream_registration/bigstream_config.yml \\\n",
    "    --global-transform-dir /Users/goinac/Work/HHMI/bioimagetools/nextflow-modules/mylocal/results/bigstream-test \\\n",
    "    --global-transform-name affine.mat \\\n",
    "    --global-align-dir /Users/goinac/Work/HHMI/bioimagetools/nextflow-modules/mylocal/results/bigstream-test \\\n",
    "    --global-align-name affine.n5  \\\n",
    "    --global-align-blocksize 128,128,128 \\\n",
    "    --cpus 1 \\\n",
    "    --verbose"
   ]
  },
  {
   "cell_type": "code",
   "execution_count": null,
   "metadata": {},
   "outputs": [],
   "source": [
    "\n",
    "!python ../scripts/main_local_align_pipeline.py \\\n",
    "    --local-fix /Users/goinac/Work/HHMI/bioimagetools/nextflow-modules/mylocal/bigstream-testdata3/fix.n5 \\\n",
    "    --local-fix-subpath c0/s0 \\\n",
    "    --local-mov /Users/goinac/Work/HHMI/bioimagetools/nextflow-modules/mylocal/bigstream-testdata3/mov.n5 \\\n",
    "    --local-mov-subpath c0/s0 \\\n",
    "    --global-affine-transform /Users/goinac/Work/HHMI/bioimagetools/nextflow-modules/mylocal/results/bigstream-test/affine.mat \\\n",
    "    --align-config /Users/goinac/Work/HHMI/bioimagetools/nextflow-modules/tests/subworkflows/janelia/bigstream_registration/bigstream_config.yml \\\n",
    "    --dask-config /Users/goinac/Work/HHMI/bioimagetools/nextflow-modules/tests/subworkflows/janelia/bigstream_registration/dask_config.yml \\\n",
    "    --local-transform-dir /Users/goinac/Work/HHMI/bioimagetools/nextflow-modules/mylocal/results/bigstream-test/local \\\n",
    "    --local-transform-name deform.n5 \\\n",
    "    --local-inv-transform-name inv-deform.n5 \\\n",
    "    --local-align-dir /Users/goinac/Work/HHMI/bioimagetools/nextflow-modules/mylocal/results/bigstream-test/local \\\n",
    "    --local-align-name warped.n5  \\\n",
    "    --local-transform-blocksize 128,128,128 \\\n",
    "    --local-align-blocksize 64,64,64 \\\n",
    "    --worker-cpus 1 \\\n",
    "    --verbose\n"
   ]
  },
  {
   "cell_type": "code",
   "execution_count": null,
   "metadata": {},
   "outputs": [],
   "source": [
    "!python ../scripts/main_compute_local_inverse.py \\\n",
    "    --transform-dir /Users/goinac/Work/HHMI/bioimagetools/nextflow-modules/mylocal/results/bigstream-test/local \\\n",
    "    --transform-name deform.n5 \\\n",
    "    --transform-subpath c0/s0 \\\n",
    "    --inv-transform-blocksize 128,128,64 \\\n",
    "    --verbose\n",
    "\n",
    "    "
   ]
  },
  {
   "cell_type": "code",
   "execution_count": null,
   "metadata": {},
   "outputs": [],
   "source": [
    "!mkdir -p /Users/goinac/Work/HHMI/bioimagetools/nextflow-modules/mylocal/results/bigstream-invtest\n",
    "\n",
    "!python ../scripts/main_compute_local_inverse.py \\\n",
    "    --transform-dir /nrs/scicompsoft/goinac/multifish/tiny/results/local-registration/t1-t2 \\\n",
    "    --transform-name transform \\\n",
    "    --transform-subpath t2/c1/s2 \\\n",
    "    --inv-transform-dir /Users/goinac/Work/HHMI/bioimagetools/nextflow-modules/mylocal/results/bigstream-invtest \\\n",
    "    --verbose\n"
   ]
  },
  {
   "cell_type": "code",
   "execution_count": null,
   "metadata": {},
   "outputs": [],
   "source": [
    "\n",
    "fix_spacing_s0 = np.array(fix_meta['pixelResolution']['dimensions'][::-1]) / exp_factor\n",
    "fix_spacing_s1 = fix_spacing_s0 * [2, 2, 2]\n",
    "fix_spacing_s2 = fix_spacing_s0 * [4, 4, 4]\n",
    "fix_spacing_s3 = fix_spacing_s0 * [8, 8, 8]\n",
    "fix_spacing_s4 = fix_spacing_s0 * [16, 16, 16]\n",
    "fix_spacing_s5 = fix_spacing_s0 * [32, 32, 32]\n",
    "print(f'fix_spacing_s0: {fix_spacing_s0}')\n",
    "print(f'fix_spacing_s1: {fix_spacing_s1}')\n",
    "print(f'fix_spacing_s2: {fix_spacing_s2}')\n",
    "print(f'fix_spacing_s3: {fix_spacing_s3}')\n",
    "print(f'fix_spacing_s4: {fix_spacing_s4}')\n",
    "print(f'fix_spacing_s5: {fix_spacing_s5}')\n",
    "\n",
    "mov_spacing_s0 = np.array(mov_meta['pixelResolution']['dimensions'][::-1]) / exp_factor\n",
    "mov_spacing_s1 = mov_spacing_s0 * [2, 2, 2]\n",
    "mov_spacing_s2 = mov_spacing_s0 * [4, 4, 4]\n",
    "mov_spacing_s3 = mov_spacing_s0 * [8, 8, 8]\n",
    "mov_spacing_s4 = mov_spacing_s0 * [16, 16, 16]\n",
    "mov_spacing_s5 = mov_spacing_s0 * [32, 32, 32]\n",
    "\n",
    "print(f'mov_spacing_s0: {mov_spacing_s0}')\n",
    "print(f'mov_spacing_s1: {mov_spacing_s1}')\n",
    "print(f'mov_spacing_s2: {mov_spacing_s2}')\n",
    "print(f'mov_spacing_s3: {mov_spacing_s3}')\n",
    "print(f'mov_spacing_s4: {mov_spacing_s4}')\n",
    "print(f'mov_spacing_s5: {mov_spacing_s5}')\n",
    "\n",
    "global_scale = 's0'\n",
    "fix_affine_spacing = fix_spacing_s0\n",
    "mov_affine_spacing = mov_spacing_s0\n",
    "\n",
    "local_scale = 's0'\n",
    "fix_deform_spacing = fix_spacing_s0\n",
    "mov_deform_spacing = mov_spacing_s0"
   ]
  },
  {
   "cell_type": "code",
   "execution_count": null,
   "metadata": {},
   "outputs": [],
   "source": [
    "fix_global = fix_zarr[f'/{ref_ch}/{global_scale}'][...]\n",
    "mov_global = mov_zarr[f'/{ref_ch}/{global_scale}'][...]\n",
    "print(f'Fix global shape: {fix_global.shape}: {fix_affine_spacing}')\n",
    "print(f'Mov global shape: {mov_global.shape}: {mov_affine_spacing}')\n",
    "nrrd.write(out_p+'/fix.nrrd', fix_global.transpose(2,1,0), compression_level=2)\n",
    "nrrd.write(out_p+'/mov.nrrd', mov_global.transpose(2,1,0), compression_level=2)"
   ]
  },
  {
   "cell_type": "markdown",
   "metadata": {
    "tags": []
   },
   "source": [
    "## Alignment\n",
    "---"
   ]
  },
  {
   "cell_type": "markdown",
   "metadata": {
    "tags": []
   },
   "source": [
    "### Compute Affine"
   ]
  },
  {
   "cell_type": "code",
   "execution_count": null,
   "metadata": {
    "tags": []
   },
   "outputs": [],
   "source": [
    "# alignment functions\n",
    "from bigstream.align import alignment_pipeline\n",
    "from bigstream.transform import apply_transform\n"
   ]
  },
  {
   "cell_type": "code",
   "execution_count": null,
   "metadata": {},
   "outputs": [],
   "source": [
    "\n",
    "# get global alignment channels\n",
    "fix = fix_global\n",
    "mov = mov_global\n",
    "\n",
    "# define alignment steps\n",
    "affine_kwargs = {\n",
    "    'initial_condition': 'CENTER',\n",
    "    'alignment_spacing':4.0, # increase this to throw out data\n",
    "    'shrink_factors':[2],\n",
    "    'smooth_sigmas':[2],\n",
    "    'optimizer_args':{\n",
    "        'learningRate':0.25,\n",
    "        'minStep':0.,\n",
    "        'numberOfIterations':100,\n",
    "    },\n",
    "}\n",
    "\n",
    "steps = [('affine', affine_kwargs)]\n",
    "\n",
    "# align\n",
    "affine = alignment_pipeline(\n",
    "    fix, mov,\n",
    "    fix_affine_spacing, mov_affine_spacing,\n",
    "    steps,\n",
    ")"
   ]
  },
  {
   "cell_type": "markdown",
   "metadata": {},
   "source": [
    "### Apply affine"
   ]
  },
  {
   "cell_type": "code",
   "execution_count": null,
   "metadata": {},
   "outputs": [],
   "source": [
    "# apply affine only\n",
    "affine_aligned = apply_transform(\n",
    "    fix, mov,\n",
    "    fix_affine_spacing, mov_affine_spacing,\n",
    "    transform_list=[affine,],\n",
    ")\n"
   ]
  },
  {
   "cell_type": "code",
   "execution_count": null,
   "metadata": {},
   "outputs": [],
   "source": [
    "# Save affine\n",
    "os.makedirs(out_p, exist_ok=True)\n",
    "np.savetxt(out_p+'/affine.mat', affine)"
   ]
  },
  {
   "cell_type": "code",
   "execution_count": null,
   "metadata": {},
   "outputs": [],
   "source": [
    "# write affine transformed vol\n",
    "os.makedirs(out_p, exist_ok=True)\n",
    "nrrd.write(out_p+'/affine.nrrd', affine_aligned.transpose(2,1,0), compression_level=2)"
   ]
  },
  {
   "cell_type": "code",
   "execution_count": null,
   "metadata": {},
   "outputs": [],
   "source": [
    "# load precomputed results\n",
    "affine = np.loadtxt(out_p+'/affine.mat')\n",
    "affine"
   ]
  },
  {
   "cell_type": "markdown",
   "metadata": {},
   "source": [
    "### Prepare cluster args"
   ]
  },
  {
   "cell_type": "code",
   "execution_count": null,
   "metadata": {},
   "outputs": [],
   "source": [
    "cluster_kwargs={\n",
    "    'config':{\n",
    "        'distributed.worker.memory.target':0.9,\n",
    "        'distributed.worker.memory.spill':0.9,\n",
    "        'distributed.worker.memory.pause':0.9,\n",
    "        'distributed.comm.retry.count':10,\n",
    "        'distributed.comm.timeouts.connect':'600s',\n",
    "        'distributed.scheduler.worker-saturation': 1,\n",
    "        'distributed.scheduler.unknown-task-duration':'60m',\n",
    "    },\n",
    "}"
   ]
  },
  {
   "cell_type": "markdown",
   "metadata": {},
   "source": [
    "### Calculate deform transformation"
   ]
  },
  {
   "cell_type": "code",
   "execution_count": null,
   "metadata": {},
   "outputs": [],
   "source": [
    "%%time\n",
    "from bigstream.piecewise_align import distributed_piecewise_alignment_pipeline\n",
    "\n",
    "# FASTER\n",
    "\n",
    "# get full resolution data\n",
    "fix = fix_zarr[f'/{ref_ch}/{local_scale}']\n",
    "mov = mov_zarr[f'/{ref_ch}/{local_scale}']\n",
    "\n",
    "# define alignment steps\n",
    "affine_kwargs = {\n",
    "    'smooth_sigmas':(0.25,),\n",
    "    'optimizer_args':{\n",
    "        'learningRate':0.25,\n",
    "        'minStep':0.,\n",
    "        'numberOfIterations':25,\n",
    "    },\n",
    "    \"alignment_spacing\": 1.0,\n",
    "}\n",
    "\n",
    "deform_kwargs = {\n",
    "    'smooth_sigmas':(0.25,),\n",
    "    'control_point_spacing':50.0,\n",
    "    'control_point_levels':(1,),\n",
    "    'optimizer_args':{\n",
    "        'learningRate':2.5,\n",
    "        'minStep':0.,\n",
    "        'numberOfIterations':25,\n",
    "    },\n",
    "    \"alignment_spacing\": 2.0,\n",
    "}\n",
    "\n",
    "steps = [ ('affine', affine_kwargs,), ('deform', deform_kwargs,), ]\n",
    "\n",
    "# deform\n",
    "deform = distributed_piecewise_alignment_pipeline(\n",
    "    fix, mov,\n",
    "    fix_deform_spacing, mov_deform_spacing,\n",
    "    steps=steps,\n",
    "    blocksize=[128, 128, 128],\n",
    "    static_transform_list=[affine,],\n",
    "    write_path=out_p+'/deform.zarr',\n",
    "    cluster_kwargs=cluster_kwargs,\n",
    ")"
   ]
  },
  {
   "cell_type": "code",
   "execution_count": null,
   "metadata": {},
   "outputs": [],
   "source": [
    "# read already saved result\n",
    "deform = zarr.open(out_p+'/deform.zarr', mode='r')"
   ]
  },
  {
   "cell_type": "markdown",
   "metadata": {},
   "source": [
    "### Apply deformation"
   ]
  },
  {
   "cell_type": "code",
   "execution_count": null,
   "metadata": {},
   "outputs": [],
   "source": [
    "from bigstream.piecewise_transform import distributed_apply_transform\n",
    "\n",
    "blocksize = (64,)*3\n",
    "channels = [ref_ch]\n",
    "\n",
    "fix = fix_zarr[f'/{ref_ch}/{local_scale}']\n",
    "for channel in channels:\n",
    "    mov = mov_zarr[f'/{channel}/{local_scale}']\n",
    "    aligned = distributed_apply_transform(\n",
    "        fix, mov,\n",
    "        fix_deform_spacing, mov_deform_spacing,\n",
    "        transform_list=[affine, deform,],\n",
    "        transform_spacing=((1,1,1), fix_deform_spacing),\n",
    "        blocksize=blocksize,\n",
    "        cluster_kwargs=cluster_kwargs\n",
    "    )\n",
    "    print(f'Write aligned result to:{out_p}/r2{channel}{local_scale}_aligned_to_r1.nrrd')\n",
    "    nrrd.write(out_p+f'/r2{channel}{local_scale}_aligned_to_r1.nrrd', aligned.transpose(2,1,0), compression_level=2)\n"
   ]
  },
  {
   "cell_type": "markdown",
   "metadata": {},
   "source": [
    "Compare deform output for nextflow and jupyter runs"
   ]
  },
  {
   "cell_type": "code",
   "execution_count": null,
   "metadata": {},
   "outputs": [],
   "source": [
    "jupyter_deform_zarr_name='/Users/goinac/Work/HHMI/bioimagetools/nextflow-modules/mylocal/results/bigstream-python/deform.zarr'\n",
    "nf_deform_n5_name='/Users/goinac/Work/HHMI/bioimagetools/nextflow-modules/mylocal/results/bigstream-test/local/deform.n5'\n",
    "\n",
    "jupyter_deform_zarr = zarr.open(jupyter_deform_zarr_name, mode='r')\n",
    "nf_deform_n5_container = zarr.open(store=zarr.N5FSStore(nf_deform_n5_name), mode='r')\n",
    "nf_deform_n5 = nf_deform_n5_container['c0/s0']\n"
   ]
  },
  {
   "cell_type": "code",
   "execution_count": null,
   "metadata": {},
   "outputs": [],
   "source": [
    "import zarr\n",
    "deform_name='/nrs/scicompsoft/goinac/multifish/tiny/results/registration/t3-t5/transform'\n",
    "deform_dataset='s2'\n",
    "\n",
    "deform_zarr_container=zarr.open(store=zarr.N5FSStore(deform_name))\n",
    "deform_zarr = deform_zarr_container[deform_dataset]\n",
    "deform_arr = deform_zarr[...]"
   ]
  },
  {
   "cell_type": "code",
   "execution_count": null,
   "metadata": {},
   "outputs": [],
   "source": [
    "deform_arr"
   ]
  },
  {
   "cell_type": "code",
   "execution_count": null,
   "metadata": {},
   "outputs": [],
   "source": [
    "print(jupyter_deform_zarr.shape)\n",
    "jupyter_deform_zarr[0,0:5, 0]"
   ]
  },
  {
   "cell_type": "code",
   "execution_count": null,
   "metadata": {},
   "outputs": [],
   "source": [
    "print(nf_deform_n5.shape)\n",
    "nf_deform_n5[0,0:5, 0]"
   ]
  },
  {
   "cell_type": "code",
   "execution_count": null,
   "metadata": {},
   "outputs": [],
   "source": [
    "np.abs(jupyter_deform_zarr[...] - nf_deform_n5[...])"
   ]
  },
  {
   "cell_type": "code",
   "execution_count": null,
   "metadata": {},
   "outputs": [],
   "source": [
    "jupyter_deform_zarr[...]-nf_deform_n5\n",
    "np.testing.assert_allclose(jupyter_deform_zarr[...], nf_deform_n5, rtol=1e-10, atol=1e-06)"
   ]
  },
  {
   "cell_type": "code",
   "execution_count": null,
   "metadata": {},
   "outputs": [],
   "source": [
    "\n",
    "np.all( jupyter_deform_zarr[0:10,0:5,0:1] == nf_deform_n5[0:10,0:5,0:1])"
   ]
  },
  {
   "cell_type": "code",
   "execution_count": null,
   "metadata": {},
   "outputs": [],
   "source": [
    "inv_name = 'local-registration/t1-t2/inv-deform.n5'\n",
    "inv_ref_name = 'local-registration/t1-t2/inv-test.n5'\n",
    "dataset = 't2/c1/s0'\n",
    "\n",
    "inv_zarr_container = zarr.open(store=zarr.N5FSStore(inv_name), mode='r')\n",
    "inv_ref_zarr_container = zarr.open(store=zarr.N5FSStore(inv_ref_name), mode='r')\n",
    "\n",
    "inv_zarr = inv_zarr_container[dataset]\n",
    "inv_ref_zarr = inv_zarr_container[dataset]\n",
    "\n",
    "inv_arr = inv_zarr[...]\n",
    "inv_ref_arr = inv_ref_zarr[...]\n"
   ]
  }
 ],
 "metadata": {
  "kernelspec": {
   "display_name": "bigstream_test",
   "language": "python",
   "name": "python3"
  },
  "language_info": {
   "codemirror_mode": {
    "name": "ipython",
    "version": 3
   },
   "file_extension": ".py",
   "mimetype": "text/x-python",
   "name": "python",
   "nbconvert_exporter": "python",
   "pygments_lexer": "ipython3",
   "version": "3.11.9"
  }
 },
 "nbformat": 4,
 "nbformat_minor": 4
}
