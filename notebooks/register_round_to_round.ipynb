{
 "cells": [
  {
   "cell_type": "markdown",
   "metadata": {
    "tags": []
   },
   "source": [
    "## Inputs\n",
    "---"
   ]
  },
  {
   "cell_type": "code",
   "execution_count": null,
   "metadata": {},
   "outputs": [],
   "source": [
    "# reading data and working with arrays\n",
    "import os\n",
    "import zarr, nrrd\n",
    "import numpy as np\n",
    "import os\n",
    "\n",
    "# data paths\n",
    "p = '/Users/goinac/Work/HHMI/bioimagetools/nextflow-modules/mylocal/bigstream-testdata3'\n",
    "fix_path = p + '/fix.n5'\n",
    "ref_ch = 'c0'\n",
    "fix_s0_subpath = f'{ref_ch}/s0'\n",
    "mov_path = p + '/mov.n5'\n",
    "mov_s0_subpath = f'{ref_ch}/s0'\n",
    "exp_factor = 1\n",
    "\n",
    "out_p = '/Users/goinac/Work/HHMI/bioimagetools/nextflow-modules/mylocal/results/bigstream-python'\n",
    "os.makedirs(out_p, exist_ok=True)\n",
    "\n",
    "# load fix data and spacing\n",
    "fix_zarr = zarr.open(store=zarr.N5Store(fix_path), mode='r')\n",
    "fix_meta = fix_zarr[fix_s0_subpath].attrs.asdict()\n",
    "print(f'Fix attrs: {fix_meta}')\n",
    "\n",
    "# load mov data and spacing\n",
    "mov_zarr = zarr.open(store=zarr.N5Store(mov_path), mode='r')\n",
    "mov_meta = mov_zarr[mov_s0_subpath].attrs.asdict()\n",
    "print(f'Mov attrs: {mov_meta}')\n"
   ]
  },
  {
   "cell_type": "code",
   "execution_count": null,
   "metadata": {},
   "outputs": [],
   "source": [
    "!mkdir -p /Users/goinac/Work/HHMI/bioimagetools/nextflow-modules/mylocal/results/bigstream-test\n",
    "\n",
    "!python ../scripts/main_global_align_pipeline.py \\\n",
    "    --global-fix /Users/goinac/Work/HHMI/bioimagetools/nextflow-modules/mylocal/bigstream-testdata3/fix.n5 \\\n",
    "    --global-fix-subpath c0/s0 \\\n",
    "    --global-mov /Users/goinac/Work/HHMI/bioimagetools/nextflow-modules/mylocal/bigstream-testdata3/mov.n5 \\\n",
    "    --global-mov-subpath c0/s0 \\\n",
    "    --global-registration-steps ransac,affine \\\n",
    "    --align-config /Users/goinac/Work/HHMI/bioimagetools/nextflow-modules/tests/subworkflows/janelia/bigstream_registration/bigstream_config.yml \\\n",
    "    --global-transform-dir /Users/goinac/Work/HHMI/bioimagetools/nextflow-modules/mylocal/results/bigstream-test \\\n",
    "    --global-transform-name affine.mat \\\n",
    "    --global-align-dir /Users/goinac/Work/HHMI/bioimagetools/nextflow-modules/mylocal/results/bigstream-test \\\n",
    "    --global-align-name affine.n5  \\\n",
    "    --global-align-blocksize 128,128,128 \\\n",
    "    --verbose"
   ]
  },
  {
   "cell_type": "code",
   "execution_count": 36,
   "metadata": {},
   "outputs": [
    {
     "name": "stdout",
     "output_type": "stream",
     "text": [
      "2024-06-27 15:57:55 - root - INFO - Local registration: Namespace(local_fix='/Users/goinac/Work/HHMI/bioimagetools/nextflow-modules/mylocal/bigstream-testdata3/fix.n5', local_fix_subpath='c0/s0', local_fix_spacing=None, local_fix_mask=None, local_fix_mask_subpath=None, local_fix_mask_descriptor=None, local_mov='/Users/goinac/Work/HHMI/bioimagetools/nextflow-modules/mylocal/bigstream-testdata3/mov.n5', local_mov_subpath='c0/s0', local_mov_spacing=None, local_mov_mask=None, local_mov_mask_subpath=None, local_mov_mask_descriptor=None, local_default_output_dir=None, local_transform_dir='/Users/goinac/Work/HHMI/bioimagetools/nextflow-modules/mylocal/results/bigstream-test/local', local_transform_name='deform.n5', local_transform_subpath=None, local_inv_transform_name='inv-deform.n5', local_inv_transform_subpath=None, local_align_dir='/Users/goinac/Work/HHMI/bioimagetools/nextflow-modules/mylocal/results/bigstream-test/local', local_align_name='warped.n5', local_align_subpath=None, local_transform_blocksize=(128, 128, 128), local_inv_transform_blocksize=None, local_align_blocksize=(64, 64, 64), local_registration_steps=None, align_config='/Users/goinac/Work/HHMI/bioimagetools/nextflow-modules/tests/subworkflows/janelia/bigstream_registration/bigstream_config.yml', global_affine='/Users/goinac/Work/HHMI/bioimagetools/nextflow-modules/mylocal/results/bigstream-test/affine.mat', local_processing_size=None, local_processing_overlap_factor=None, inv_iterations=10, inv_order=2, inv_sqrt_iterations=10, dask_scheduler=None, dask_config='/Users/goinac/Work/HHMI/bioimagetools/nextflow-modules/tests/subworkflows/janelia/bigstream_registration/dask_config.yml', cluster_max_tasks=0, compression='gzip', logging_config=None, verbose=False)\n",
      "2024-06-27 15:57:55 - root - INFO - Read global affine from /Users/goinac/Work/HHMI/bioimagetools/nextflow-modules/mylocal/results/bigstream-test/affine.mat\n",
      "2024-06-27 15:57:55 - bigstream.cli - INFO - Read external config from /Users/goinac/Work/HHMI/bioimagetools/nextflow-modules/tests/subworkflows/janelia/bigstream_registration/bigstream_config.yml: {'ransac': {'safeguard_exceptions': False, 'blob_sizes': [10, 30], 'nspots': 5000, 'num_sigma_max': 7, 'cc_radius': 20, 'match_threshold': 0.6, 'max_spot_match_distance': None, 'point_matches_threshold': 50, 'align_threshold': 2.0, 'diagonal_constraint': 0.25, 'fix_spots_count_threshold': 100, 'fix_spot_detection_kwargs': {'blob_method': 'log', 'threshold': 0.001, 'threshold_rel': 0.05, 'winsorize_limits': [0.05, 0.02]}, 'mov_spots_count_threshold': 100, 'mov_spot_detection_kwargs': {'blob_method': 'log', 'threshold': 0.001, 'threshold_rel': 0.05, 'winsorize_limits': [0.05, 0.02]}}, 'global_align': {'steps': ['affine'], 'affine': {'initial_condition': 'CENTER', 'alignment_spacing': 4.0, 'shrink_factors': [2], 'smooth_sigmas': [2], 'optimizer': 'RSGD', 'optimizer_args': {'learningRate': 0.25, 'minStep': 0, 'numberOfIterations': 100}}}, 'local_align': {'steps': ['affine', 'deform'], 'block_size': [128, 128, 128], 'block_overlap': 0.5, 'ransac': {'fix_spot_detection_kwargs': {'blob_method': 'log'}, 'mov_spot_detection_kwargs': {'blob_method': 'log'}}, 'affine': {'alignment_spacing': 1.0, 'shrink_factors': [1], 'smooth_sigmas': [0.25], 'optimizer_args': {'learningRate': 0.25, 'minStep': 0.0, 'numberOfIterations': 25}}, 'deform': {'alignment_spacing': 2.0, 'smooth_sigmas': [0.25], 'control_point_spacing': 50.0, 'control_point_levels': [1], 'optimizer_args': {'learningRate': 2.5, 'minStep': 0.0, 'numberOfIterations': 25}}}}\n",
      "2024-06-27 15:57:55 - bigstream.cli - INFO - Final config {'spot_detection': {'blob_method': 'log', 'threshold': None, 'threshold_rel': 0.1, 'winsorize_limits': [0.01, 0.01], 'background_subtract': False}, 'ransac': {'nspots': 5000, 'blob_sizes': [10, 30], 'num_sigma_max': 7, 'cc_radius': 20, 'safeguard_exceptions': False, 'match_threshold': 0.6, 'max_spot_match_distance': None, 'point_matches_threshold': 50, 'align_threshold': 2.0, 'diagonal_constraint': 0.25, 'fix_spots_count_threshold': 100, 'fix_spot_detection_kwargs': {'blob_method': 'log', 'threshold': 0.001, 'threshold_rel': 0.05, 'winsorize_limits': [0.05, 0.02], 'background_subtract': False}, 'mov_spots_count_threshold': 100, 'mov_spot_detection_kwargs': {'blob_method': 'log', 'threshold': 0.001, 'threshold_rel': 0.05, 'winsorize_limits': [0.05, 0.02], 'background_subtract': False}}, 'affine': {'optimizer': 'RSGD', 'metric': 'MMI', 'shrink_factors': [1], 'smooth_sigmas': [0], 'alignment_spacing': 1.0, 'metric_args': {}, 'optimizer_args': {}}, 'deform': {'optimizer': 'RSGD', 'metric': 'MMI', 'shrink_factors': [1], 'smooth_sigmas': [0], 'alignment_spacing': 1.0, 'metric_args': {}, 'optimizer_args': {}, 'control_point_spacing': 50, 'control_point_levels': [1]}, 'rigid': {'optimizer': 'RSGD', 'metric': 'MMI', 'shrink_factors': [1], 'smooth_sigmas': [0], 'alignment_spacing': 1.0, 'metric_args': {}, 'optimizer_args': {}, 'rigid': True}, 'random': {'optimizer': 'RSGD', 'metric': 'MMI', 'shrink_factors': [1], 'smooth_sigmas': [0], 'alignment_spacing': 1.0, 'metric_args': {}, 'optimizer_args': {}, 'use_patch_mutual_information': False}, 'global_align': {'steps': ['affine'], 'affine': {'initial_condition': 'CENTER', 'alignment_spacing': 4.0, 'shrink_factors': [2], 'smooth_sigmas': [2], 'optimizer': 'RSGD', 'optimizer_args': {'learningRate': 0.25, 'minStep': 0, 'numberOfIterations': 100}}}, 'local_align': {'steps': ['affine', 'deform'], 'block_size': [128, 128, 128], 'block_overlap': 0.5, 'ransac': {'safeguard_exceptions': False, 'fix_spot_detection_kwargs': {'blob_method': 'log'}, 'mov_spot_detection_kwargs': {'blob_method': 'log'}}, 'affine': {'alignment_spacing': 1.0, 'shrink_factors': [1], 'smooth_sigmas': [0.25], 'optimizer_args': {'learningRate': 0.25, 'minStep': 0.0, 'numberOfIterations': 25}}, 'deform': {'alignment_spacing': 2.0, 'smooth_sigmas': [0.25], 'control_point_spacing': 50.0, 'control_point_levels': [1], 'optimizer_args': {'learningRate': 2.5, 'minStep': 0.0, 'numberOfIterations': 25}}}}\n",
      "2024-06-27 15:57:55 - bigstream.cli - INFO - Default affine args: {'optimizer': 'RSGD', 'metric': 'MMI', 'shrink_factors': [1], 'smooth_sigmas': [0], 'alignment_spacing': 1.0, 'metric_args': {}, 'optimizer_args': {}}\n",
      "2024-06-27 15:57:55 - bigstream.cli - INFO - Context affine overriden args: {'alignment_spacing': 1.0, 'shrink_factors': [1], 'smooth_sigmas': [0.25], 'optimizer_args': {'learningRate': 0.25, 'minStep': 0.0, 'numberOfIterations': 25}}\n",
      "2024-06-27 15:57:55 - bigstream.cli - INFO - Final affine args: {'optimizer': 'RSGD', 'metric': 'MMI', 'shrink_factors': [1], 'smooth_sigmas': [0.25], 'alignment_spacing': 1.0, 'metric_args': {}, 'optimizer_args': {'learningRate': 0.25, 'minStep': 0.0, 'numberOfIterations': 25}}\n",
      "2024-06-27 15:57:55 - bigstream.cli - INFO - Default deform args: {'optimizer': 'RSGD', 'metric': 'MMI', 'shrink_factors': [1], 'smooth_sigmas': [0], 'alignment_spacing': 1.0, 'metric_args': {}, 'optimizer_args': {}, 'control_point_spacing': 50, 'control_point_levels': [1]}\n",
      "2024-06-27 15:57:55 - bigstream.cli - INFO - Context deform overriden args: {'alignment_spacing': 2.0, 'smooth_sigmas': [0.25], 'control_point_spacing': 50.0, 'control_point_levels': [1], 'optimizer_args': {'learningRate': 2.5, 'minStep': 0.0, 'numberOfIterations': 25}}\n",
      "2024-06-27 15:57:55 - bigstream.cli - INFO - Final deform args: {'optimizer': 'RSGD', 'metric': 'MMI', 'shrink_factors': [1], 'smooth_sigmas': [0.25], 'alignment_spacing': 2.0, 'metric_args': {}, 'optimizer_args': {'learningRate': 2.5, 'minStep': 0.0, 'numberOfIterations': 25}, 'control_point_spacing': 50.0, 'control_point_levels': [1]}\n",
      "2024-06-27 15:57:55 - root - INFO - Run local registration with: <bigstream.cli.RegistrationInputs object at 0x14f6500d0>, [('affine', {'optimizer': 'RSGD', 'metric': 'MMI', 'shrink_factors': [1], 'smooth_sigmas': [0.25], 'alignment_spacing': 1.0, 'metric_args': {}, 'optimizer_args': {'learningRate': 0.25, 'minStep': 0.0, 'numberOfIterations': 25}}), ('deform', {'optimizer': 'RSGD', 'metric': 'MMI', 'shrink_factors': [1], 'smooth_sigmas': [0.25], 'alignment_spacing': 2.0, 'metric_args': {}, 'optimizer_args': {'learningRate': 2.5, 'minStep': 0.0, 'numberOfIterations': 25}, 'control_point_spacing': 50.0, 'control_point_levels': [1]})]\n",
      "2024-06-27 15:57:55 - bigstream.io_utility - INFO - Read N5 attrs /Users/goinac/Work/HHMI/bioimagetools/nextflow-modules/mylocal/bigstream-testdata3/fix.n5 (/Users/goinac/Work/HHMI/bioimagetools/nextflow-modules/mylocal/bigstream-testdata3/fix.n5)\n",
      "2024-06-27 15:57:55 - bigstream.io_utility - INFO - /Users/goinac/Work/HHMI/bioimagetools/nextflow-modules/mylocal/bigstream-testdata3/fix.n5:c0/s0 attrs: {'downsamplingFactors': [1.0, 1.0, 1.0], 'pixelResolution': {'dimensions': [1.0, 1.0, 1.0], 'unit': 'pixel'}, 'dataType': dtype('uint8'), 'dimensions': (29, 266, 226), 'blockSize': (512, 512, 512)}\n",
      "2024-06-27 15:57:55 - bigstream.cli - INFO - Open fix vol /Users/goinac/Work/HHMI/bioimagetools/nextflow-modules/mylocal/bigstream-testdata3/fix.n5:c0/s0 (29, 266, 226) [1. 1. 1.] [1. 1. 1.] for registration\n",
      "2024-06-27 15:57:55 - bigstream.io_utility - INFO - Read N5 attrs /Users/goinac/Work/HHMI/bioimagetools/nextflow-modules/mylocal/bigstream-testdata3/mov.n5 (/Users/goinac/Work/HHMI/bioimagetools/nextflow-modules/mylocal/bigstream-testdata3/mov.n5)\n",
      "2024-06-27 15:57:55 - bigstream.io_utility - INFO - /Users/goinac/Work/HHMI/bioimagetools/nextflow-modules/mylocal/bigstream-testdata3/mov.n5:c0/s0 attrs: {'downsamplingFactors': [1.0, 1.0, 1.0], 'pixelResolution': {'dimensions': [1.0, 1.0, 1.0], 'unit': 'pixel'}, 'dataType': dtype('uint8'), 'dimensions': (29, 266, 226), 'blockSize': (512, 512, 512)}\n",
      "2024-06-27 15:57:55 - bigstream.cli - INFO - Open moving vol /Users/goinac/Work/HHMI/bioimagetools/nextflow-modules/mylocal/bigstream-testdata3/mov.n5:c0/s0 (29, 266, 226) [1. 1. 1.] [1. 1. 1.] for registration\n",
      "2024-06-27 15:57:55 - bigstream.cli - INFO - Fix volume attributes: (29, 266, 226) {'downsamplingFactors': [1.0, 1.0, 1.0], 'pixelResolution': {'dimensions': [1.0, 1.0, 1.0], 'unit': 'pixel'}, 'dataType': dtype('uint8'), 'dimensions': (29, 266, 226), 'blockSize': (512, 512, 512)} [1. 1. 1.]\n",
      "2024-06-27 15:57:55 - bigstream.cli - INFO - Mov volume attributes: (29, 266, 226) {'downsamplingFactors': [1.0, 1.0, 1.0], 'pixelResolution': {'dimensions': [1.0, 1.0, 1.0], 'unit': 'pixel'}, 'dataType': dtype('uint8'), 'dimensions': (29, 266, 226), 'blockSize': (512, 512, 512)} [1. 1. 1.]\n",
      "2024-06-27 15:57:57 - root - INFO - Align moving data /Users/goinac/Work/HHMI/bioimagetools/nextflow-modules/mylocal/bigstream-testdata3/mov.n5:c0/s0 (29, 266, 226) [1. 1. 1.] [1. 1. 1.] to reference /Users/goinac/Work/HHMI/bioimagetools/nextflow-modules/mylocal/bigstream-testdata3/fix.n5:c0/s0 (29, 266, 226) [1. 1. 1.] [1. 1. 1.]\n",
      "2024-06-27 15:57:57 - bigstream.io_utility - INFO - Create dataset /Users/goinac/Work/HHMI/bioimagetools/nextflow-modules/mylocal/results/bigstream-test/local/deform.n5:c0/s0 compressor=gzip, {'pixelResolution': [1, 1.0, 1.0, 1.0], 'downsamplingFactors': [1, 1.0, 1.0, 1.0]}\n",
      "2024-06-27 15:57:57 - root - INFO - Calculate transformation /Users/goinac/Work/HHMI/bioimagetools/nextflow-modules/mylocal/results/bigstream-test/local/deform.n5for local alignment of /Users/goinac/Work/HHMI/bioimagetools/nextflow-modules/mylocal/bigstream-testdata3/mov.n5:c0/s0 (29, 266, 226) [1. 1. 1.] [1. 1. 1.]to reference /Users/goinac/Work/HHMI/bioimagetools/nextflow-modules/mylocal/bigstream-testdata3/fix.n5:c0/s0 (29, 266, 226) [1. 1. 1.] [1. 1. 1.]\n",
      "2024-06-27 15:57:57 - bigstream.distributed_align - INFO - Run distributed alignment with: [('affine', {'optimizer': 'RSGD', 'metric': 'MMI', 'shrink_factors': [1], 'smooth_sigmas': [0.25], 'alignment_spacing': 1.0, 'metric_args': {}, 'optimizer_args': {'learningRate': 0.25, 'minStep': 0.0, 'numberOfIterations': 25}}), ('deform', {'optimizer': 'RSGD', 'metric': 'MMI', 'shrink_factors': [1], 'smooth_sigmas': [0.25], 'alignment_spacing': 2.0, 'metric_args': {}, 'optimizer_args': {'learningRate': 2.5, 'minStep': 0.0, 'numberOfIterations': 25}, 'control_point_spacing': 50.0, 'control_point_levels': [1]})]\n",
      "2024-06-27 15:57:57 - bigstream.distributed_align - INFO - Partition [ 29 266 226] into [1 3 2] using[128 128 128] and [64 64 64]\n",
      "2024-06-27 15:57:57 - bigstream.distributed_align - INFO - Prepare params for 6 blocks for a [ 29 266 226] volume\n",
      "2024-06-27 15:57:57 - bigstream.distributed_align - INFO - Submit [('affine', {'optimizer': 'RSGD', 'metric': 'MMI', 'shrink_factors': [1], 'smooth_sigmas': [0.25], 'alignment_spacing': 1.0, 'metric_args': {}, 'optimizer_args': {'learningRate': 0.25, 'minStep': 0.0, 'numberOfIterations': 25}}), ('deform', {'optimizer': 'RSGD', 'metric': 'MMI', 'shrink_factors': [1], 'smooth_sigmas': [0.25], 'alignment_spacing': 2.0, 'metric_args': {}, 'optimizer_args': {'learningRate': 2.5, 'minStep': 0.0, 'numberOfIterations': 25}, 'control_point_spacing': 50.0, 'control_point_levels': [1]})] for 6 blocks\n",
      "2024-06-27 15:57:57 - bigstream.distributed_align - INFO - Collect compute transform results for 6 blocks\n",
      "2024-06-27 15:57:57 - bigstream.distributed_align - INFO - Prepare block coords ((0, 0, 0), (slice(0, 29, None), slice(0, 192, None), slice(0, 192, None)), {(-1, -1, -1): False, (-1, -1, 0): False, (-1, -1, 1): False, (-1, 0, -1): False, (-1, 0, 0): False, (-1, 0, 1): False, (-1, 1, -1): False, (-1, 1, 0): False, (-1, 1, 1): False, (0, -1, -1): False, (0, -1, 0): False, (0, -1, 1): False, (0, 0, -1): False, (0, 0, 0): True, (0, 0, 1): True, (0, 1, -1): False, (0, 1, 0): True, (0, 1, 1): True, (1, -1, -1): False, (1, -1, 0): False, (1, -1, 1): False, (1, 0, -1): False, (1, 0, 0): False, (1, 0, 1): False, (1, 1, -1): False, (1, 1, 0): False, (1, 1, 1): False})\n",
      "2024-06-27 15:57:57 - bigstream.distributed_align - INFO - Prepare block coords ((0, 0, 1), (slice(0, 29, None), slice(0, 192, None), slice(64, 226, None)), {(-1, -1, -1): False, (-1, -1, 0): False, (-1, -1, 1): False, (-1, 0, -1): False, (-1, 0, 0): False, (-1, 0, 1): False, (-1, 1, -1): False, (-1, 1, 0): False, (-1, 1, 1): False, (0, -1, -1): False, (0, -1, 0): False, (0, -1, 1): False, (0, 0, -1): True, (0, 0, 0): True, (0, 0, 1): False, (0, 1, -1): True, (0, 1, 0): True, (0, 1, 1): False, (1, -1, -1): False, (1, -1, 0): False, (1, -1, 1): False, (1, 0, -1): False, (1, 0, 0): False, (1, 0, 1): False, (1, 1, -1): False, (1, 1, 0): False, (1, 1, 1): False})\n",
      "2024-06-27 15:57:57 - bigstream.distributed_align - INFO - Prepare block coords ((0, 1, 0), (slice(0, 29, None), slice(64, 266, None), slice(0, 192, None)), {(-1, -1, -1): False, (-1, -1, 0): False, (-1, -1, 1): False, (-1, 0, -1): False, (-1, 0, 0): False, (-1, 0, 1): False, (-1, 1, -1): False, (-1, 1, 0): False, (-1, 1, 1): False, (0, -1, -1): False, (0, -1, 0): True, (0, -1, 1): True, (0, 0, -1): False, (0, 0, 0): True, (0, 0, 1): True, (0, 1, -1): False, (0, 1, 0): True, (0, 1, 1): True, (1, -1, -1): False, (1, -1, 0): False, (1, -1, 1): False, (1, 0, -1): False, (1, 0, 0): False, (1, 0, 1): False, (1, 1, -1): False, (1, 1, 0): False, (1, 1, 1): False})\n",
      "2024-06-27 15:57:57 - bigstream.distributed_align - INFO - Prepare block coords ((0, 1, 1), (slice(0, 29, None), slice(64, 266, None), slice(64, 226, None)), {(-1, -1, -1): False, (-1, -1, 0): False, (-1, -1, 1): False, (-1, 0, -1): False, (-1, 0, 0): False, (-1, 0, 1): False, (-1, 1, -1): False, (-1, 1, 0): False, (-1, 1, 1): False, (0, -1, -1): True, (0, -1, 0): True, (0, -1, 1): False, (0, 0, -1): True, (0, 0, 0): True, (0, 0, 1): False, (0, 1, -1): True, (0, 1, 0): True, (0, 1, 1): False, (1, -1, -1): False, (1, -1, 0): False, (1, -1, 1): False, (1, 0, -1): False, (1, 0, 0): False, (1, 0, 1): False, (1, 1, -1): False, (1, 1, 0): False, (1, 1, 1): False})\n",
      "2024-06-27 15:57:57 - bigstream.distributed_align - INFO - Prepare block coords ((0, 2, 0), (slice(0, 29, None), slice(192, 266, None), slice(0, 192, None)), {(-1, -1, -1): False, (-1, -1, 0): False, (-1, -1, 1): False, (-1, 0, -1): False, (-1, 0, 0): False, (-1, 0, 1): False, (-1, 1, -1): False, (-1, 1, 0): False, (-1, 1, 1): False, (0, -1, -1): False, (0, -1, 0): True, (0, -1, 1): True, (0, 0, -1): False, (0, 0, 0): True, (0, 0, 1): True, (0, 1, -1): False, (0, 1, 0): False, (0, 1, 1): False, (1, -1, -1): False, (1, -1, 0): False, (1, -1, 1): False, (1, 0, -1): False, (1, 0, 0): False, (1, 0, 1): False, (1, 1, -1): False, (1, 1, 0): False, (1, 1, 1): False})\n",
      "2024-06-27 15:57:57 - bigstream.distributed_align - INFO - Prepare block coords ((0, 2, 1), (slice(0, 29, None), slice(192, 266, None), slice(64, 226, None)), {(-1, -1, -1): False, (-1, -1, 0): False, (-1, -1, 1): False, (-1, 0, -1): False, (-1, 0, 0): False, (-1, 0, 1): False, (-1, 1, -1): False, (-1, 1, 0): False, (-1, 1, 1): False, (0, -1, -1): True, (0, -1, 0): True, (0, -1, 1): False, (0, 0, -1): True, (0, 0, 0): True, (0, 0, 1): False, (0, 1, -1): False, (0, 1, 0): False, (0, 1, 1): False, (1, -1, -1): False, (1, -1, 0): False, (1, -1, 1): False, (1, 0, -1): False, (1, 0, 0): False, (1, 0, 1): False, (1, 1, -1): False, (1, 1, 0): False, (1, 1, 1): False})\n",
      "2024-06-27 15:57:57 - bigstream.io_utility - INFO - Open N5 /Users/goinac/Work/HHMI/bioimagetools/nextflow-modules/mylocal/bigstream-testdata3/fix.n5 (/Users/goinac/Work/HHMI/bioimagetools/nextflow-modules/mylocal/bigstream-testdata3/fix.n5)\n",
      "2024-06-27 15:57:57 - bigstream.io_utility - INFO - Open N5 /Users/goinac/Work/HHMI/bioimagetools/nextflow-modules/mylocal/bigstream-testdata3/fix.n5 (/Users/goinac/Work/HHMI/bioimagetools/nextflow-modules/mylocal/bigstream-testdata3/fix.n5)\n",
      "2024-06-27 15:57:57 - bigstream.io_utility - INFO - Open N5 /Users/goinac/Work/HHMI/bioimagetools/nextflow-modules/mylocal/bigstream-testdata3/fix.n5 (/Users/goinac/Work/HHMI/bioimagetools/nextflow-modules/mylocal/bigstream-testdata3/fix.n5)\n",
      "2024-06-27 15:57:57 - bigstream.io_utility - INFO - Open N5 /Users/goinac/Work/HHMI/bioimagetools/nextflow-modules/mylocal/bigstream-testdata3/fix.n5 (/Users/goinac/Work/HHMI/bioimagetools/nextflow-modules/mylocal/bigstream-testdata3/fix.n5)\n",
      "2024-06-27 15:57:57 - bigstream.io_utility - INFO - Open N5 /Users/goinac/Work/HHMI/bioimagetools/nextflow-modules/mylocal/bigstream-testdata3/fix.n5 (/Users/goinac/Work/HHMI/bioimagetools/nextflow-modules/mylocal/bigstream-testdata3/fix.n5)\n",
      "2024-06-27 15:57:57 - bigstream.io_utility - INFO - Open N5 /Users/goinac/Work/HHMI/bioimagetools/nextflow-modules/mylocal/bigstream-testdata3/fix.n5 (/Users/goinac/Work/HHMI/bioimagetools/nextflow-modules/mylocal/bigstream-testdata3/fix.n5)\n",
      "2024-06-27 15:57:57 - bigstream.io_utility - INFO - Open N5 /Users/goinac/Work/HHMI/bioimagetools/nextflow-modules/mylocal/bigstream-testdata3/mov.n5 (/Users/goinac/Work/HHMI/bioimagetools/nextflow-modules/mylocal/bigstream-testdata3/mov.n5)\n",
      "2024-06-27 15:57:57 - bigstream.io_utility - INFO - Open N5 /Users/goinac/Work/HHMI/bioimagetools/nextflow-modules/mylocal/bigstream-testdata3/mov.n5 (/Users/goinac/Work/HHMI/bioimagetools/nextflow-modules/mylocal/bigstream-testdata3/mov.n5)\n",
      "2024-06-27 15:57:57 - bigstream.io_utility - INFO - Open N5 /Users/goinac/Work/HHMI/bioimagetools/nextflow-modules/mylocal/bigstream-testdata3/mov.n5 (/Users/goinac/Work/HHMI/bioimagetools/nextflow-modules/mylocal/bigstream-testdata3/mov.n5)\n",
      "2024-06-27 15:57:57 - bigstream.io_utility - INFO - Open N5 /Users/goinac/Work/HHMI/bioimagetools/nextflow-modules/mylocal/bigstream-testdata3/mov.n5 (/Users/goinac/Work/HHMI/bioimagetools/nextflow-modules/mylocal/bigstream-testdata3/mov.n5)\n",
      "2024-06-27 15:57:57 - bigstream.io_utility - INFO - Open N5 /Users/goinac/Work/HHMI/bioimagetools/nextflow-modules/mylocal/bigstream-testdata3/mov.n5 (/Users/goinac/Work/HHMI/bioimagetools/nextflow-modules/mylocal/bigstream-testdata3/mov.n5)\n",
      "2024-06-27 15:57:57 - bigstream.io_utility - INFO - Open N5 /Users/goinac/Work/HHMI/bioimagetools/nextflow-modules/mylocal/bigstream-testdata3/mov.n5 (/Users/goinac/Work/HHMI/bioimagetools/nextflow-modules/mylocal/bigstream-testdata3/mov.n5)\n",
      "2024-06-27 15:57:57 - bigstream.align - INFO - Affine align (0, 1, 1) -> {'optimizer': 'RSGD', 'metric': 'MMI', 'shrink_factors': [1], 'smooth_sigmas': [0.25], 'metric_args': {}, 'optimizer_args': {'learningRate': 0.25, 'minStep': 0.0, 'numberOfIterations': 25}}\n",
      "2024-06-27 15:57:57 - bigstream.align - INFO - Affine align (0, 1, 0) -> {'optimizer': 'RSGD', 'metric': 'MMI', 'shrink_factors': [1], 'smooth_sigmas': [0.25], 'metric_args': {}, 'optimizer_args': {'learningRate': 0.25, 'minStep': 0.0, 'numberOfIterations': 25}}\n",
      "2024-06-27 15:57:57 - bigstream.align - INFO - Affine align (0, 0, 1) -> {'optimizer': 'RSGD', 'metric': 'MMI', 'shrink_factors': [1], 'smooth_sigmas': [0.25], 'metric_args': {}, 'optimizer_args': {'learningRate': 0.25, 'minStep': 0.0, 'numberOfIterations': 25}}\n",
      "2024-06-27 15:57:57 - bigstream.align - INFO - Affine align (0, 2, 0) -> {'optimizer': 'RSGD', 'metric': 'MMI', 'shrink_factors': [1], 'smooth_sigmas': [0.25], 'metric_args': {}, 'optimizer_args': {'learningRate': 0.25, 'minStep': 0.0, 'numberOfIterations': 25}}\n",
      "2024-06-27 15:57:57 - bigstream.align - INFO - Affine align (0, 2, 1) -> {'optimizer': 'RSGD', 'metric': 'MMI', 'shrink_factors': [1], 'smooth_sigmas': [0.25], 'metric_args': {}, 'optimizer_args': {'learningRate': 0.25, 'minStep': 0.0, 'numberOfIterations': 25}}\n",
      "2024-06-27 15:57:57 - bigstream.align - INFO - Affine align (0, 0, 0) -> {'optimizer': 'RSGD', 'metric': 'MMI', 'shrink_factors': [1], 'smooth_sigmas': [0.25], 'metric_args': {}, 'optimizer_args': {'learningRate': 0.25, 'minStep': 0.0, 'numberOfIterations': 25}}\n",
      "2024-06-27 15:57:58 - bigstream.align - INFO - (0, 2, 0) Registration succeeded\n",
      "2024-06-27 15:58:00 - bigstream.align - INFO - (0, 2, 1) Registration succeeded\n",
      "2024-06-27 15:58:00 - bigstream.align - INFO - (0, 1, 1) Registration succeeded\n",
      "2024-06-27 15:58:01 - bigstream.align - INFO - (0, 0, 1) Registration succeeded\n",
      "2024-06-27 15:58:01 - bigstream.align - INFO - (0, 2, 0) Registration succeeded\n",
      "2024-06-27 15:58:01 - bigstream.distributed_align - INFO - Finished block alignment for (0, 2, 0):(slice(0, 29, None), slice(192, 266, None), slice(0, 192, None)) -> (29, 74, 192, 3)\n",
      "2024-06-27 15:58:01 - bigstream.align - INFO - (0, 1, 0) Registration succeeded\n",
      "2024-06-27 15:58:02 - bigstream.distributed_align - INFO - Writing block (0, 2, 0) at (slice(0, 29, None), slice(192, 266, None), slice(0, 192, None))\n",
      "2024-06-27 15:58:02 - bigstream.align - INFO - (0, 0, 0) Registration succeeded\n",
      "2024-06-27 15:58:02 - bigstream.distributed_align - INFO - Finished writing block (0, 2, 0) at (slice(0, 29, None), slice(192, 266, None), slice(0, 192, None))\n",
      "2024-06-27 15:58:02 - bigstream.distributed_align - INFO - Finished computing deformation field for block (0, 2, 0) at (slice(0, 29, None), slice(192, 266, None), slice(0, 192, None))\n",
      "2024-06-27 15:58:02 - bigstream.align - INFO - (0, 2, 1) Registration succeeded\n",
      "2024-06-27 15:58:02 - bigstream.distributed_align - INFO - Finished block alignment for (0, 2, 1):(slice(0, 29, None), slice(192, 266, None), slice(64, 226, None)) -> (29, 74, 162, 3)\n"
     ]
    }
   ],
   "source": [
    "\n",
    "!python ../scripts/main_local_align_pipeline.py \\\n",
    "    --local-fix /Users/goinac/Work/HHMI/bioimagetools/nextflow-modules/mylocal/bigstream-testdata3/fix.n5 \\\n",
    "    --local-fix-subpath c0/s0 \\\n",
    "    --local-mov /Users/goinac/Work/HHMI/bioimagetools/nextflow-modules/mylocal/bigstream-testdata3/mov.n5 \\\n",
    "    --local-mov-subpath c0/s0 \\\n",
    "    --global-affine-transform /Users/goinac/Work/HHMI/bioimagetools/nextflow-modules/mylocal/results/bigstream-test/affine.mat \\\n",
    "    --align-config /Users/goinac/Work/HHMI/bioimagetools/nextflow-modules/tests/subworkflows/janelia/bigstream_registration/bigstream_config.yml \\\n",
    "    --dask-config /Users/goinac/Work/HHMI/bioimagetools/nextflow-modules/tests/subworkflows/janelia/bigstream_registration/dask_config.yml \\\n",
    "    --local-transform-dir /Users/goinac/Work/HHMI/bioimagetools/nextflow-modules/mylocal/results/bigstream-test/local \\\n",
    "    --local-transform-name deform.n5 \\\n",
    "    --local-inv-transform-name inv-deform.n5 \\\n",
    "    --local-align-dir /Users/goinac/Work/HHMI/bioimagetools/nextflow-modules/mylocal/results/bigstream-test/local \\\n",
    "    --local-align-name warped.n5  \\\n",
    "    --local-transform-blocksize 128,128,128 \\\n",
    "    --local-align-blocksize 64,64,64\n"
   ]
  },
  {
   "cell_type": "code",
   "execution_count": null,
   "metadata": {},
   "outputs": [],
   "source": [
    "!python ../scripts/main_compute_local_inverse.py \\\n",
    "    --transform-dir /Users/goinac/Work/HHMI/bioimagetools/nextflow-modules/mylocal/results/bigstream-test/local \\\n",
    "    --transform-name deform.n5 \\\n",
    "    --transform-subpath c0/s0 \\\n",
    "    --inv-transform-blocksize 128,128,64 \\\n",
    "    --verbose\n",
    "\n",
    "    "
   ]
  },
  {
   "cell_type": "code",
   "execution_count": null,
   "metadata": {},
   "outputs": [],
   "source": [
    "!mkdir -p /Users/goinac/Work/HHMI/bioimagetools/nextflow-modules/mylocal/results/bigstream-invtest\n",
    "\n",
    "!python ../scripts/main_compute_local_inverse.py \\\n",
    "    --transform-dir /nrs/scicompsoft/goinac/multifish/tiny/results/local-registration/t1-t2 \\\n",
    "    --transform-name transform \\\n",
    "    --transform-subpath t2/c1/s2 \\\n",
    "    --inv-transform-dir /Users/goinac/Work/HHMI/bioimagetools/nextflow-modules/mylocal/results/bigstream-invtest \\\n",
    "    --verbose\n"
   ]
  },
  {
   "cell_type": "code",
   "execution_count": null,
   "metadata": {},
   "outputs": [],
   "source": [
    "\n",
    "fix_spacing_s0 = np.array(fix_meta['pixelResolution']['dimensions'][::-1]) / exp_factor\n",
    "fix_spacing_s1 = fix_spacing_s0 * [2, 2, 2]\n",
    "fix_spacing_s2 = fix_spacing_s0 * [4, 4, 4]\n",
    "fix_spacing_s3 = fix_spacing_s0 * [8, 8, 8]\n",
    "fix_spacing_s4 = fix_spacing_s0 * [16, 16, 16]\n",
    "fix_spacing_s5 = fix_spacing_s0 * [32, 32, 32]\n",
    "print(f'fix_spacing_s0: {fix_spacing_s0}')\n",
    "print(f'fix_spacing_s1: {fix_spacing_s1}')\n",
    "print(f'fix_spacing_s2: {fix_spacing_s2}')\n",
    "print(f'fix_spacing_s3: {fix_spacing_s3}')\n",
    "print(f'fix_spacing_s4: {fix_spacing_s4}')\n",
    "print(f'fix_spacing_s5: {fix_spacing_s5}')\n",
    "\n",
    "mov_spacing_s0 = np.array(mov_meta['pixelResolution']['dimensions'][::-1]) / exp_factor\n",
    "mov_spacing_s1 = mov_spacing_s0 * [2, 2, 2]\n",
    "mov_spacing_s2 = mov_spacing_s0 * [4, 4, 4]\n",
    "mov_spacing_s3 = mov_spacing_s0 * [8, 8, 8]\n",
    "mov_spacing_s4 = mov_spacing_s0 * [16, 16, 16]\n",
    "mov_spacing_s5 = mov_spacing_s0 * [32, 32, 32]\n",
    "\n",
    "print(f'mov_spacing_s0: {mov_spacing_s0}')\n",
    "print(f'mov_spacing_s1: {mov_spacing_s1}')\n",
    "print(f'mov_spacing_s2: {mov_spacing_s2}')\n",
    "print(f'mov_spacing_s3: {mov_spacing_s3}')\n",
    "print(f'mov_spacing_s4: {mov_spacing_s4}')\n",
    "print(f'mov_spacing_s5: {mov_spacing_s5}')\n",
    "\n",
    "global_scale = 's0'\n",
    "fix_affine_spacing = fix_spacing_s0\n",
    "mov_affine_spacing = mov_spacing_s0\n",
    "\n",
    "local_scale = 's0'\n",
    "fix_deform_spacing = fix_spacing_s0\n",
    "mov_deform_spacing = mov_spacing_s0"
   ]
  },
  {
   "cell_type": "code",
   "execution_count": null,
   "metadata": {},
   "outputs": [],
   "source": [
    "fix_global = fix_zarr[f'/{ref_ch}/{global_scale}'][...]\n",
    "mov_global = mov_zarr[f'/{ref_ch}/{global_scale}'][...]\n",
    "print(f'Fix global shape: {fix_global.shape}: {fix_affine_spacing}')\n",
    "print(f'Mov global shape: {mov_global.shape}: {mov_affine_spacing}')\n",
    "nrrd.write(out_p+'/fix.nrrd', fix_global.transpose(2,1,0), compression_level=2)\n",
    "nrrd.write(out_p+'/mov.nrrd', mov_global.transpose(2,1,0), compression_level=2)"
   ]
  },
  {
   "cell_type": "markdown",
   "metadata": {
    "tags": []
   },
   "source": [
    "## Alignment\n",
    "---"
   ]
  },
  {
   "cell_type": "markdown",
   "metadata": {
    "tags": []
   },
   "source": [
    "### Compute Affine"
   ]
  },
  {
   "cell_type": "code",
   "execution_count": null,
   "metadata": {
    "tags": []
   },
   "outputs": [],
   "source": [
    "# alignment functions\n",
    "from bigstream.align import alignment_pipeline\n",
    "from bigstream.transform import apply_transform\n"
   ]
  },
  {
   "cell_type": "code",
   "execution_count": null,
   "metadata": {},
   "outputs": [],
   "source": [
    "\n",
    "# get global alignment channels\n",
    "fix = fix_global\n",
    "mov = mov_global\n",
    "\n",
    "# define alignment steps\n",
    "affine_kwargs = {\n",
    "    'initial_condition': 'CENTER',\n",
    "    'alignment_spacing':4.0, # increase this to throw out data\n",
    "    'shrink_factors':[2],\n",
    "    'smooth_sigmas':[2],\n",
    "    'optimizer_args':{\n",
    "        'learningRate':0.25,\n",
    "        'minStep':0.,\n",
    "        'numberOfIterations':100,\n",
    "    },\n",
    "}\n",
    "\n",
    "steps = [('affine', affine_kwargs)]\n",
    "\n",
    "# align\n",
    "affine = alignment_pipeline(\n",
    "    fix, mov,\n",
    "    fix_affine_spacing, mov_affine_spacing,\n",
    "    steps,\n",
    ")"
   ]
  },
  {
   "cell_type": "markdown",
   "metadata": {},
   "source": [
    "### Apply affine"
   ]
  },
  {
   "cell_type": "code",
   "execution_count": null,
   "metadata": {},
   "outputs": [],
   "source": [
    "# apply affine only\n",
    "affine_aligned = apply_transform(\n",
    "    fix, mov,\n",
    "    fix_affine_spacing, mov_affine_spacing,\n",
    "    transform_list=[affine,],\n",
    ")\n"
   ]
  },
  {
   "cell_type": "code",
   "execution_count": null,
   "metadata": {},
   "outputs": [],
   "source": [
    "# Save affine\n",
    "os.makedirs(out_p, exist_ok=True)\n",
    "np.savetxt(out_p+'/affine.mat', affine)"
   ]
  },
  {
   "cell_type": "code",
   "execution_count": null,
   "metadata": {},
   "outputs": [],
   "source": [
    "# write affine transformed vol\n",
    "os.makedirs(out_p, exist_ok=True)\n",
    "nrrd.write(out_p+'/affine.nrrd', affine_aligned.transpose(2,1,0), compression_level=2)"
   ]
  },
  {
   "cell_type": "code",
   "execution_count": null,
   "metadata": {},
   "outputs": [],
   "source": [
    "# load precomputed results\n",
    "affine = np.loadtxt(out_p+'/affine.mat')\n",
    "affine"
   ]
  },
  {
   "cell_type": "markdown",
   "metadata": {},
   "source": [
    "### Prepare cluster args"
   ]
  },
  {
   "cell_type": "code",
   "execution_count": null,
   "metadata": {},
   "outputs": [],
   "source": [
    "cluster_kwargs={\n",
    "    'config':{\n",
    "        'distributed.worker.memory.target':0.9,\n",
    "        'distributed.worker.memory.spill':0.9,\n",
    "        'distributed.worker.memory.pause':0.9,\n",
    "        'distributed.comm.retry.count':10,\n",
    "        'distributed.comm.timeouts.connect':'600s',\n",
    "        'distributed.scheduler.worker-saturation': 1,\n",
    "        'distributed.scheduler.unknown-task-duration':'60m',\n",
    "    },\n",
    "}"
   ]
  },
  {
   "cell_type": "markdown",
   "metadata": {},
   "source": [
    "### Calculate deform transformation"
   ]
  },
  {
   "cell_type": "code",
   "execution_count": null,
   "metadata": {},
   "outputs": [],
   "source": [
    "%%time\n",
    "from bigstream.piecewise_align import distributed_piecewise_alignment_pipeline\n",
    "\n",
    "# FASTER\n",
    "\n",
    "# get full resolution data\n",
    "fix = fix_zarr[f'/{ref_ch}/{local_scale}']\n",
    "mov = mov_zarr[f'/{ref_ch}/{local_scale}']\n",
    "\n",
    "# define alignment steps\n",
    "affine_kwargs = {\n",
    "    'smooth_sigmas':(0.25,),\n",
    "    'optimizer_args':{\n",
    "        'learningRate':0.25,\n",
    "        'minStep':0.,\n",
    "        'numberOfIterations':25,\n",
    "    },\n",
    "    \"alignment_spacing\": 1.0,\n",
    "}\n",
    "\n",
    "deform_kwargs = {\n",
    "    'smooth_sigmas':(0.25,),\n",
    "    'control_point_spacing':50.0,\n",
    "    'control_point_levels':(1,),\n",
    "    'optimizer_args':{\n",
    "        'learningRate':2.5,\n",
    "        'minStep':0.,\n",
    "        'numberOfIterations':25,\n",
    "    },\n",
    "    \"alignment_spacing\": 2.0,\n",
    "}\n",
    "\n",
    "steps = [ ('affine', affine_kwargs,), ('deform', deform_kwargs,), ]\n",
    "\n",
    "# deform\n",
    "deform = distributed_piecewise_alignment_pipeline(\n",
    "    fix, mov,\n",
    "    fix_deform_spacing, mov_deform_spacing,\n",
    "    steps=steps,\n",
    "    blocksize=[128, 128, 128],\n",
    "    static_transform_list=[affine,],\n",
    "    write_path=out_p+'/deform.zarr',\n",
    "    cluster_kwargs=cluster_kwargs,\n",
    ")"
   ]
  },
  {
   "cell_type": "code",
   "execution_count": null,
   "metadata": {},
   "outputs": [],
   "source": [
    "# read already saved result\n",
    "deform = zarr.open(out_p+'/deform.zarr', mode='r')"
   ]
  },
  {
   "cell_type": "markdown",
   "metadata": {},
   "source": [
    "### Apply deformation"
   ]
  },
  {
   "cell_type": "code",
   "execution_count": null,
   "metadata": {},
   "outputs": [],
   "source": [
    "from bigstream.piecewise_transform import distributed_apply_transform\n",
    "\n",
    "blocksize = (64,)*3\n",
    "channels = [ref_ch]\n",
    "\n",
    "fix = fix_zarr[f'/{ref_ch}/{local_scale}']\n",
    "for channel in channels:\n",
    "    mov = mov_zarr[f'/{channel}/{local_scale}']\n",
    "    aligned = distributed_apply_transform(\n",
    "        fix, mov,\n",
    "        fix_deform_spacing, mov_deform_spacing,\n",
    "        transform_list=[affine, deform,],\n",
    "        transform_spacing=((1,1,1), fix_deform_spacing),\n",
    "        blocksize=blocksize,\n",
    "        cluster_kwargs=cluster_kwargs\n",
    "    )\n",
    "    print(f'Write aligned result to:{out_p}/r2{channel}{local_scale}_aligned_to_r1.nrrd')\n",
    "    nrrd.write(out_p+f'/r2{channel}{local_scale}_aligned_to_r1.nrrd', aligned.transpose(2,1,0), compression_level=2)\n"
   ]
  },
  {
   "cell_type": "markdown",
   "metadata": {},
   "source": [
    "Compare deform output for nextflow and jupyter runs"
   ]
  },
  {
   "cell_type": "code",
   "execution_count": null,
   "metadata": {},
   "outputs": [],
   "source": [
    "jupyter_deform_zarr_name='/Users/goinac/Work/HHMI/bioimagetools/nextflow-modules/mylocal/results/bigstream-python/deform.zarr'\n",
    "nf_deform_n5_name='/Users/goinac/Work/HHMI/bioimagetools/nextflow-modules/mylocal/results/bigstream-test/local/deform.n5'\n",
    "\n",
    "jupyter_deform_zarr = zarr.open(jupyter_deform_zarr_name, mode='r')\n",
    "nf_deform_n5_container = zarr.open(store=zarr.N5FSStore(nf_deform_n5_name), mode='r')\n",
    "nf_deform_n5 = nf_deform_n5_container['c0/s0']\n"
   ]
  },
  {
   "cell_type": "code",
   "execution_count": null,
   "metadata": {},
   "outputs": [],
   "source": [
    "print(jupyter_deform_zarr.shape)\n",
    "jupyter_deform_zarr[0,0:5, 0]"
   ]
  },
  {
   "cell_type": "code",
   "execution_count": null,
   "metadata": {},
   "outputs": [],
   "source": [
    "print(nf_deform_n5.shape)\n",
    "nf_deform_n5[0,0:5, 0]"
   ]
  },
  {
   "cell_type": "code",
   "execution_count": null,
   "metadata": {},
   "outputs": [],
   "source": [
    "np.abs(jupyter_deform_zarr[...] - nf_deform_n5[...])"
   ]
  },
  {
   "cell_type": "code",
   "execution_count": null,
   "metadata": {},
   "outputs": [],
   "source": [
    "jupyter_deform_zarr[...]-nf_deform_n5\n",
    "np.testing.assert_allclose(jupyter_deform_zarr[...], nf_deform_n5, rtol=1e-10, atol=1e-06)"
   ]
  },
  {
   "cell_type": "code",
   "execution_count": null,
   "metadata": {},
   "outputs": [],
   "source": [
    "\n",
    "np.all( jupyter_deform_zarr[0:10,0:5,0:1] == nf_deform_n5[0:10,0:5,0:1])"
   ]
  }
 ],
 "metadata": {
  "kernelspec": {
   "display_name": "bigstream_test",
   "language": "python",
   "name": "python3"
  },
  "language_info": {
   "codemirror_mode": {
    "name": "ipython",
    "version": 3
   },
   "file_extension": ".py",
   "mimetype": "text/x-python",
   "name": "python",
   "nbconvert_exporter": "python",
   "pygments_lexer": "ipython3",
   "version": "3.11.9"
  }
 },
 "nbformat": 4,
 "nbformat_minor": 4
}
