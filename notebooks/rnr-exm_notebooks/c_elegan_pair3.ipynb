{
 "cells": [
  {
   "cell_type": "markdown",
   "metadata": {
    "tags": []
   },
   "source": [
    "## Inputs\n",
    "---"
   ]
  },
  {
   "cell_type": "code",
   "execution_count": null,
   "metadata": {},
   "outputs": [],
   "source": [
    "# reading data and working with arrays\n",
    "import h5py, nrrd\n",
    "import numpy as np\n",
    "\n",
    "# data paths\n",
    "data_path = '/groups/scicompsoft/home/fleishmang/rnr-exm-work/data/c_elegan_pair3.h5'\n",
    "hdf5_file = h5py.File(data_path, 'r')\n",
    "fix = hdf5_file['/fixed'][...]\n",
    "mov = hdf5_file['/move'][...]\n",
    "\n",
    "# assumed spacings\n",
    "fix_spacing = np.array([0.4, 0.1625, 0.1625])\n",
    "mov_spacing = np.array([0.4, 0.1625, 0.1625])\n",
    "\n",
    "# # write some channels\n",
    "# nrrd.write('./fix.nrrd', fix.transpose(2,1,0), compression_level=2)\n",
    "# nrrd.write('./mov.nrrd', mov.transpose(2,1,0), compression_level=2)"
   ]
  },
  {
   "cell_type": "markdown",
   "metadata": {},
   "source": [
    "## Masking\n",
    "---"
   ]
  },
  {
   "cell_type": "markdown",
   "metadata": {},
   "source": [
    "### fixed"
   ]
  },
  {
   "cell_type": "code",
   "execution_count": null,
   "metadata": {},
   "outputs": [],
   "source": [
    "# tools for coarse whole brain segmentation\n",
    "from CircuitSeeker import level_set\n",
    "from scipy.ndimage import zoom, binary_closing, binary_dilation\n",
    "\n",
    "# # get small mask\n",
    "# fix_skip = fix[::4, ::8, ::8]\n",
    "# skip_spacing = fix_spacing * [4, 8, 8]\n",
    "# fix_mask_small = level_set.brain_detection(\n",
    "#     fix_skip, skip_spacing,\n",
    "#     mask_smoothing=2,\n",
    "#     iterations=[80,40,10],\n",
    "#     smooth_sigmas=[12,6,2],\n",
    "#     lambda2=1.0,\n",
    "# )\n",
    "\n",
    "# # enlarge and smooth mask\n",
    "# fix_mask = zoom(fix_mask_small, np.array(fix.shape) / fix_skip.shape, order=0)\n",
    "# fix_mask = binary_closing(fix_mask, np.ones((5,5,5))).astype(np.uint8)\n",
    "# fix_mask = binary_dilation(fix_mask, np.ones((5,5,5))).astype(np.uint8)\n",
    "\n",
    "# # write result\n",
    "# nrrd.write('./fix_mask.nrrd', fix_mask.transpose(2,1,0), compression_level=2)\n",
    "\n",
    "# load precomputed mask\n",
    "fix_mask, _ = nrrd.read('./fix_mask.nrrd')\n",
    "fix_mask = fix_mask.transpose(2,1,0)"
   ]
  },
  {
   "cell_type": "markdown",
   "metadata": {},
   "source": [
    "### moving"
   ]
  },
  {
   "cell_type": "code",
   "execution_count": null,
   "metadata": {},
   "outputs": [],
   "source": [
    "# tools for coarse whole brain segmentation\n",
    "from CircuitSeeker import level_set\n",
    "from scipy.ndimage import zoom, binary_closing, binary_dilation\n",
    "\n",
    "# # get small mask\n",
    "# mov_skip = mov[::4, ::8, ::8]\n",
    "# skip_spacing = mov_spacing * [4, 8, 8]\n",
    "# mov_mask_small = level_set.brain_detection(\n",
    "#     mov_skip, skip_spacing,\n",
    "#     mask_smoothing=2,\n",
    "#     iterations=[80,40,10],\n",
    "#     smooth_sigmas=[12,6,2],\n",
    "#     lambda2=1.0,\n",
    "# )\n",
    "\n",
    "# # enlarge and smooth mask\n",
    "# mov_mask = zoom(mov_mask_small, np.array(mov.shape) / mov_skip.shape, order=0)\n",
    "# mov_mask = binary_closing(mov_mask, np.ones((5,5,5))).astype(np.uint8)\n",
    "# mov_mask = binary_dilation(mov_mask, np.ones((5,5,5))).astype(np.uint8)\n",
    "\n",
    "# # save output\n",
    "# nrrd.write('./mov_mask.nrrd', mov_mask.transpose(2,1,0), compression_level=2)\n",
    "\n",
    "# load precomputed mask\n",
    "mov_mask, _ = nrrd.read('./mov_mask.nrrd')\n",
    "mov_mask = mov_mask.transpose(2,1,0)"
   ]
  },
  {
   "cell_type": "markdown",
   "metadata": {
    "tags": []
   },
   "source": [
    "## Alignment\n",
    "---"
   ]
  },
  {
   "cell_type": "markdown",
   "metadata": {},
   "source": [
    "### global"
   ]
  },
  {
   "cell_type": "code",
   "execution_count": null,
   "metadata": {
    "tags": []
   },
   "outputs": [],
   "source": [
    "%%time\n",
    "\n",
    "# alignment functions\n",
    "from bigstream.align import alignment_pipeline\n",
    "from bigstream.transform import apply_transform\n",
    "\n",
    "# define alignment steps\n",
    "common_kwargs = {\n",
    "    'alignment_spacing':1.0,\n",
    "    'shrink_factors':(2,),\n",
    "    'smooth_sigmas':(1.5,),\n",
    "    'optimizer_args':{\n",
    "        'learningRate':0.25,\n",
    "        'minStep':0.,\n",
    "        'numberOfIterations':3600,\n",
    "    },\n",
    "}\n",
    "\n",
    "affine_kwargs = {\n",
    "    'initial_condition':'CENTER',\n",
    "    'fix_mask':fix_mask,\n",
    "    'mov_mask':mov_mask,\n",
    "}\n",
    "\n",
    "steps = [('affine', {**common_kwargs, **affine_kwargs},),]\n",
    "\n",
    "# align\n",
    "affine = alignment_pipeline(\n",
    "    fix, mov,\n",
    "    fix_spacing, mov_spacing,\n",
    "    steps,\n",
    ")\n",
    "\n",
    "# apply affine only\n",
    "affine_aligned = apply_transform(\n",
    "    fix, mov,\n",
    "    fix_spacing, mov_spacing,\n",
    "    transform_list=[affine,],\n",
    ")\n",
    "\n",
    "# # write results\n",
    "np.savetxt('affine.mat', affine)\n",
    "nrrd.write('./affine.nrrd', affine_aligned.transpose(2,1,0), compression_level=2)\n",
    "\n",
    "# load precomputed results\n",
    "affine = np.loadtxt('./affine.mat')"
   ]
  },
  {
   "cell_type": "code",
   "execution_count": null,
   "metadata": {},
   "outputs": [],
   "source": []
  }
 ],
 "metadata": {
  "kernelspec": {
   "display_name": "bigstream",
   "language": "python",
   "name": "bigstream"
  },
  "language_info": {
   "codemirror_mode": {
    "name": "ipython",
    "version": 3
   },
   "file_extension": ".py",
   "mimetype": "text/x-python",
   "name": "python",
   "nbconvert_exporter": "python",
   "pygments_lexer": "ipython3",
   "version": "3.10.8"
  }
 },
 "nbformat": 4,
 "nbformat_minor": 4
}
