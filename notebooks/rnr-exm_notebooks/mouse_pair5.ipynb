{
 "cells": [
  {
   "cell_type": "markdown",
   "metadata": {
    "tags": []
   },
   "source": [
    "## Inputs\n",
    "---"
   ]
  },
  {
   "cell_type": "code",
   "execution_count": 1,
   "metadata": {},
   "outputs": [],
   "source": [
    "# reading data and working with arrays\n",
    "import h5py, nrrd\n",
    "import numpy as np\n",
    "\n",
    "# data paths\n",
    "data_path = '/groups/scicompsoft/home/fleishmang/rnr-exm-work/test_data/mouse_pair5.h5'\n",
    "hdf5_file = h5py.File(data_path, 'r')\n",
    "fix = hdf5_file['/fixed'][...]\n",
    "mov = hdf5_file['/move'][...]\n",
    "\n",
    "# assumed spacings (there are no provided spacings, this is a problem)\n",
    "fix_spacing = np.array([0.4, 0.1625, 0.1625])\n",
    "mov_spacing = np.array([0.4, 0.1625, 0.1625])\n",
    "\n",
    "# # write some channels\n",
    "# nrrd.write('./fix.nrrd', fix.transpose(2,1,0), compression_level=2)\n",
    "# nrrd.write('./mov.nrrd', mov.transpose(2,1,0), compression_level=2)"
   ]
  },
  {
   "cell_type": "markdown",
   "metadata": {
    "tags": []
   },
   "source": [
    "## Alignment\n",
    "---"
   ]
  },
  {
   "cell_type": "markdown",
   "metadata": {},
   "source": [
    "### affine"
   ]
  },
  {
   "cell_type": "code",
   "execution_count": 2,
   "metadata": {
    "tags": []
   },
   "outputs": [
    {
     "name": "stderr",
     "output_type": "stream",
     "text": [
      "IBM Spectrum LSF 10.1.0.0 build 601088, Apr 15 2022\n",
      "Copyright International Business Machines Corp. 1992, 2016.\n",
      "US Government Users Restricted Rights - Use, duplication or disclosure restricted by GSA ADP Schedule Contract with IBM Corp.\n",
      "\n",
      "  binary type: linux3.10-glibc2.17-x86_64\n"
     ]
    }
   ],
   "source": [
    "# alignment functions\n",
    "from bigstream.align import alignment_pipeline\n",
    "from bigstream.transform import apply_transform\n",
    "\n",
    "# define alignment steps\n",
    "common_kwargs = {\n",
    "    'alignment_spacing':0.5,\n",
    "    'shrink_factors':(8,4,2,1),\n",
    "    'smooth_sigmas':(4.,4.,2.,1.),\n",
    "    'optimizer_args':{\n",
    "        'learningRate':0.25,\n",
    "        'minStep':0.,\n",
    "        'numberOfIterations':400,\n",
    "    },\n",
    "}\n",
    "\n",
    "steps = [('affine', common_kwargs),]"
   ]
  },
  {
   "cell_type": "code",
   "execution_count": 3,
   "metadata": {},
   "outputs": [
    {
     "name": "stdout",
     "output_type": "stream",
     "text": [
      "LEVEL:  0  ITERATION:  0  METRIC:  -0.15403506752833043\n",
      "LEVEL:  0  ITERATION:  1  METRIC:  -0.15693137226072473\n",
      "LEVEL:  0  ITERATION:  2  METRIC:  -0.15949087427236383\n",
      "LEVEL:  0  ITERATION:  3  METRIC:  -0.16176669621525913\n",
      "LEVEL:  0  ITERATION:  4  METRIC:  -0.16386176317760648\n",
      "LEVEL:  0  ITERATION:  5  METRIC:  -0.16581494653272552\n",
      "LEVEL:  0  ITERATION:  6  METRIC:  -0.1770689594704269\n",
      "LEVEL:  0  ITERATION:  7  METRIC:  -0.17169448536677465\n",
      "LEVEL:  0  ITERATION:  8  METRIC:  -0.17267725380670076\n",
      "LEVEL:  0  ITERATION:  9  METRIC:  -0.1729883417408631\n",
      "LEVEL:  0  ITERATION:  10  METRIC:  -0.17316563188325804\n",
      "LEVEL:  0  ITERATION:  11  METRIC:  -0.1735076319106144\n",
      "LEVEL:  0  ITERATION:  12  METRIC:  -0.17375002608859533\n",
      "LEVEL:  0  ITERATION:  13  METRIC:  -0.17383130480438827\n",
      "LEVEL:  1  ITERATION:  0  METRIC:  -0.17223082107937146\n",
      "LEVEL:  1  ITERATION:  1  METRIC:  -0.17325930696877231\n",
      "LEVEL:  2  ITERATION:  0  METRIC:  -0.12395195367660458\n",
      "LEVEL:  2  ITERATION:  1  METRIC:  -0.12501413188020075\n",
      "LEVEL:  2  ITERATION:  2  METRIC:  -0.1250710577768091\n",
      "LEVEL:  2  ITERATION:  3  METRIC:  -0.1252357655401393\n",
      "LEVEL:  2  ITERATION:  4  METRIC:  -0.1252924965793162\n",
      "LEVEL:  2  ITERATION:  5  METRIC:  -0.1253153858924627\n",
      "LEVEL:  2  ITERATION:  6  METRIC:  -0.12544766033508414\n",
      "LEVEL:  2  ITERATION:  7  METRIC:  -0.12548102633771227\n",
      "LEVEL:  2  ITERATION:  8  METRIC:  -0.12552437955145232\n",
      "LEVEL:  3  ITERATION:  0  METRIC:  -0.081625605869314\n",
      "LEVEL:  3  ITERATION:  1  METRIC:  -0.08179811503453958\n",
      "Registration succeeded\n",
      "CPU times: user 2min 38s, sys: 2.69 s, total: 2min 41s\n",
      "Wall time: 19.3 s\n"
     ]
    }
   ],
   "source": [
    "%%time\n",
    "\n",
    "# align\n",
    "affine = alignment_pipeline(\n",
    "    fix, mov,\n",
    "    fix_spacing, mov_spacing,\n",
    "    steps,\n",
    ")"
   ]
  },
  {
   "cell_type": "code",
   "execution_count": 4,
   "metadata": {},
   "outputs": [],
   "source": [
    "# apply transform and save results\n",
    "affine_aligned = apply_transform(\n",
    "    fix, mov,\n",
    "    fix_spacing, mov_spacing,\n",
    "    transform_list=[affine,],\n",
    ")\n",
    "\n",
    "# write results\n",
    "np.savetxt('affine.mat', affine)\n",
    "nrrd.write('./affine.nrrd', affine_aligned.transpose(2,1,0), compression_level=2)\n",
    "\n",
    "# load precomputed results\n",
    "affine = np.loadtxt('./affine.mat')"
   ]
  },
  {
   "cell_type": "code",
   "execution_count": 5,
   "metadata": {},
   "outputs": [],
   "source": [
    "from bigstream.utility import matrix_to_displacement_field\n",
    "\n",
    "# load affine, convert to displacement, convert to voxel units\n",
    "affine = np.loadtxt('./affine.mat')\n",
    "deform = matrix_to_displacement_field(affine, fix.shape, spacing=fix_spacing)\n",
    "deform = (deform / fix_spacing).astype(np.float32)\n",
    "\n",
    "# save as h5 file\n",
    "with h5py.File('../submission/mouse_test.h5', 'a') as hf:\n",
    "    hf.create_dataset('pair5', data=deform, compression='gzip')"
   ]
  },
  {
   "cell_type": "code",
   "execution_count": null,
   "metadata": {},
   "outputs": [],
   "source": []
  }
 ],
 "metadata": {
  "kernelspec": {
   "display_name": "bigstream",
   "language": "python",
   "name": "bigstream"
  },
  "language_info": {
   "codemirror_mode": {
    "name": "ipython",
    "version": 3
   },
   "file_extension": ".py",
   "mimetype": "text/x-python",
   "name": "python",
   "nbconvert_exporter": "python",
   "pygments_lexer": "ipython3",
   "version": "3.10.8"
  }
 },
 "nbformat": 4,
 "nbformat_minor": 4
}
