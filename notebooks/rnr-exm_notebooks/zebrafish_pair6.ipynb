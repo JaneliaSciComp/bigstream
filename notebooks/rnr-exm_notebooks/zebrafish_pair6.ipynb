{
 "cells": [
  {
   "cell_type": "markdown",
   "metadata": {
    "tags": []
   },
   "source": [
    "## Inputs\n",
    "---"
   ]
  },
  {
   "cell_type": "code",
   "execution_count": 1,
   "metadata": {},
   "outputs": [],
   "source": [
    "# reading data and working with arrays\n",
    "import h5py, nrrd\n",
    "import numpy as np\n",
    "\n",
    "# data paths\n",
    "data_path = '/groups/scicompsoft/home/fleishmang/rnr-exm-work/test_data/zebrafish_pair6.h5'\n",
    "hdf5_file = h5py.File(data_path, 'r')\n",
    "fix = hdf5_file['/fixed'][...]\n",
    "mov = hdf5_file['/move'][...]\n",
    "\n",
    "# spacing\n",
    "fix_spacing = np.array([0.4, 0.1625, 0.1625])\n",
    "mov_spacing = np.array([0.4, 0.1625, 0.1625])\n",
    "\n",
    "# write some channels\n",
    "# nrrd.write('./fix.nrrd', fix.transpose(2,1,0), compression_level=2)\n",
    "# nrrd.write('./mov.nrrd', mov.transpose(2,1,0), compression_level=2)"
   ]
  },
  {
   "cell_type": "markdown",
   "metadata": {
    "tags": []
   },
   "source": [
    "## Alignment\n",
    "---"
   ]
  },
  {
   "cell_type": "markdown",
   "metadata": {},
   "source": [
    "### affine"
   ]
  },
  {
   "cell_type": "code",
   "execution_count": null,
   "metadata": {
    "tags": []
   },
   "outputs": [],
   "source": [
    "# define alignment\n",
    "from bigstream.align import alignment_pipeline\n",
    "from bigstream.transform import apply_transform\n",
    "\n",
    "# define alignment steps\n",
    "common_kwargs = {\n",
    "    'alignment_spacing':4.0,\n",
    "    'shrink_factors':(2,),\n",
    "    'smooth_sigmas':(2.,),\n",
    "    'optimizer_args':{\n",
    "        'learningRate':0.25,\n",
    "        'minStep':0.,\n",
    "        'numberOfIterations':400,\n",
    "    },\n",
    "}\n",
    "\n",
    "affine_kwargs = {\n",
    "    'initial_condition':'CENTER',\n",
    "}\n",
    "\n",
    "steps = [('affine', {**common_kwargs, **affine_kwargs},)]"
   ]
  },
  {
   "cell_type": "code",
   "execution_count": null,
   "metadata": {},
   "outputs": [],
   "source": [
    "%%time\n",
    "\n",
    "# run it\n",
    "affine = alignment_pipeline(\n",
    "    fix, mov,\n",
    "    fix_spacing, mov_spacing,\n",
    "    steps,\n",
    ")"
   ]
  },
  {
   "cell_type": "code",
   "execution_count": null,
   "metadata": {},
   "outputs": [],
   "source": [
    "# apply transform and save results\n",
    "affine_aligned = apply_transform(\n",
    "    fix, mov,\n",
    "    fix_spacing, mov_spacing,\n",
    "    transform_list=[affine,],\n",
    ")\n",
    "\n",
    "# write results\n",
    "np.savetxt('affine.mat', affine)\n",
    "nrrd.write('./affine.nrrd', affine_aligned.transpose(2,1,0), compression_level=2)\n",
    "\n",
    "# load precomputed results\n",
    "affine = np.loadtxt('./affine.mat')"
   ]
  },
  {
   "cell_type": "code",
   "execution_count": 2,
   "metadata": {},
   "outputs": [
    {
     "name": "stderr",
     "output_type": "stream",
     "text": [
      "IBM Spectrum LSF 10.1.0.0 build 601088, Apr 15 2022\n",
      "Copyright International Business Machines Corp. 1992, 2016.\n",
      "US Government Users Restricted Rights - Use, duplication or disclosure restricted by GSA ADP Schedule Contract with IBM Corp.\n",
      "\n",
      "  binary type: linux3.10-glibc2.17-x86_64\n"
     ]
    }
   ],
   "source": [
    "from bigstream.utility import matrix_to_displacement_field\n",
    "\n",
    "# load affine, convert to displacement, convert to voxel units\n",
    "affine = np.loadtxt('./affine.mat')\n",
    "deform = matrix_to_displacement_field(affine, fix.shape, spacing=fix_spacing)\n",
    "deform = (deform / fix_spacing).astype(np.float32)\n",
    "\n",
    "# save as h5 file\n",
    "with h5py.File('../submission/zebrafish_test.h5', 'a') as hf:\n",
    "    hf.create_dataset('pair6', data=deform, compression='gzip')"
   ]
  },
  {
   "cell_type": "code",
   "execution_count": null,
   "metadata": {},
   "outputs": [],
   "source": []
  }
 ],
 "metadata": {
  "kernelspec": {
   "display_name": "bigstream",
   "language": "python",
   "name": "bigstream"
  },
  "language_info": {
   "codemirror_mode": {
    "name": "ipython",
    "version": 3
   },
   "file_extension": ".py",
   "mimetype": "text/x-python",
   "name": "python",
   "nbconvert_exporter": "python",
   "pygments_lexer": "ipython3",
   "version": "3.10.8"
  }
 },
 "nbformat": 4,
 "nbformat_minor": 4
}
