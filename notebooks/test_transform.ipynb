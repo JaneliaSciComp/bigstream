{
 "cells": [
  {
   "cell_type": "code",
   "execution_count": 19,
   "metadata": {},
   "outputs": [],
   "source": [
    "# reading data and working with arrays\n",
    "import zarr\n",
    "import numpy as np\n",
    "from scipy.ndimage import map_coordinates, zoom, gaussian_filter\n",
    "\n",
    "# data paths\n",
    "inv_transform_path = '/nrs/scicompsoft/goinac/multifish/tiny/results/registration/local/t1-t2/inv-deform.n5'\n",
    "inv_transform_subpath = 't2/c1/s2'\n",
    "coords_path = '/nrs/scicompsoft/goinac/multifish/tiny/results/spots/t2/spots-c0-coord.csv'\n",
    "\n",
    "# load fix data and spacing\n",
    "inv_transform_zarr = zarr.open(store=zarr.N5Store(inv_transform_path), mode='r')\n",
    "inv_transform = inv_transform_zarr[inv_transform_subpath]\n",
    "\n",
    "input_coords = np.float32(np.loadtxt(coords_path, delimiter=','))\n",
    "zyx_coords = np.empty_like(input_coords)\n",
    "zyx_coords[:, 0:3] = input_coords[:, [2, 1, 0]]\n",
    "zyx_coords[:, 3:] = input_coords[:, 3:]\n",
    "coordinates = zyx_coords[:, 0:3]"
   ]
  },
  {
   "cell_type": "code",
   "execution_count": null,
   "metadata": {},
   "outputs": [],
   "source": [
    "t = inv_transform[..., 0]"
   ]
  },
  {
   "cell_type": "code",
   "execution_count": 17,
   "metadata": {},
   "outputs": [
    {
     "name": "stdout",
     "output_type": "stream",
     "text": [
      "[[  5.30586   17.194525   1.240321]\n",
      " [ 24.841278  19.820435   2.564408]\n",
      " [ 24.418633  22.460075   2.589501]\n",
      " ...\n",
      " [ 54.406086 186.52228   74.75403 ]\n",
      " [ 57.075356 201.64537  232.02138 ]\n",
      " [ 61.216553 209.28227  254.73798 ]]\n"
     ]
    }
   ],
   "source": [
    "print(coordinates)"
   ]
  },
  {
   "cell_type": "code",
   "execution_count": 56,
   "metadata": {},
   "outputs": [],
   "source": [
    "ct = coordinates.transpose()\n",
    "ndims = inv_transform.shape[-1]\n",
    "interp = lambda x: map_coordinates(x, ct, mode='nearest')\n"
   ]
  },
  {
   "cell_type": "code",
   "execution_count": 57,
   "metadata": {},
   "outputs": [],
   "source": [
    "l = [interp(inv_transform[..., i]) for i in range(ndims)]\n",
    "dx = np.array(l).transpose()"
   ]
  },
  {
   "cell_type": "code",
   "execution_count": 69,
   "metadata": {},
   "outputs": [
    {
     "name": "stdout",
     "output_type": "stream",
     "text": [
      "(2, 2, 2, 3)\n",
      "----------------------\n",
      "(2, 2, 2)\n",
      "----------------------\n",
      "[[[2.0620213 2.0748599]\n",
      "  [2.066321  2.0796707]]\n",
      "\n",
      " [[2.0757468 2.088616 ]\n",
      "  [2.0800672 2.0934749]]]\n",
      "----------------------\n",
      "[[[6.312518  6.3731275]\n",
      "  [6.3418775 6.4031396]]\n",
      "\n",
      " [[6.3824697 6.443789 ]\n",
      "  [6.4120784 6.4740877]]]\n"
     ]
    }
   ],
   "source": [
    "print(inv_transform[0:2,0:2,0:2,:].shape)\n",
    "print('----------------------')\n",
    "print(inv_transform[0:2,0:2,0:2,0].shape)\n",
    "print('----------------------')\n",
    "print(inv_transform[0:2,0:2,0:2,1])\n",
    "print('----------------------')\n",
    "print(inv_transform[0:2,0:2,0:2,2])"
   ]
  },
  {
   "cell_type": "code",
   "execution_count": 70,
   "metadata": {},
   "outputs": [
    {
     "name": "stdout",
     "output_type": "stream",
     "text": [
      "Help on function map_coordinates in module scipy.ndimage._interpolation:\n",
      "\n",
      "map_coordinates(input, coordinates, output=None, order=3, mode='constant', cval=0.0, prefilter=True)\n",
      "    Map the input array to new coordinates by interpolation.\n",
      "    \n",
      "    The array of coordinates is used to find, for each point in the output,\n",
      "    the corresponding coordinates in the input. The value of the input at\n",
      "    those coordinates is determined by spline interpolation of the\n",
      "    requested order.\n",
      "    \n",
      "    The shape of the output is derived from that of the coordinate\n",
      "    array by dropping the first axis. The values of the array along\n",
      "    the first axis are the coordinates in the input array at which the\n",
      "    output value is found.\n",
      "    \n",
      "    Parameters\n",
      "    ----------\n",
      "    input : array_like\n",
      "        The input array.\n",
      "    coordinates : array_like\n",
      "        The coordinates at which `input` is evaluated.\n",
      "    output : array or dtype, optional\n",
      "        The array in which to place the output, or the dtype of the\n",
      "        returned array. By default an array of the same dtype as input\n",
      "        will be created.\n",
      "    order : int, optional\n",
      "        The order of the spline interpolation, default is 3.\n",
      "        The order has to be in the range 0-5.\n",
      "    mode : {'reflect', 'grid-mirror', 'constant', 'grid-constant', 'nearest', 'mirror', 'grid-wrap', 'wrap'}, optional\n",
      "        The `mode` parameter determines how the input array is extended\n",
      "        beyond its boundaries. Default is 'constant'. Behavior for each valid\n",
      "        value is as follows (see additional plots and details on\n",
      "        :ref:`boundary modes <ndimage-interpolation-modes>`):\n",
      "    \n",
      "        'reflect' (`d c b a | a b c d | d c b a`)\n",
      "            The input is extended by reflecting about the edge of the last\n",
      "            pixel. This mode is also sometimes referred to as half-sample\n",
      "            symmetric.\n",
      "    \n",
      "        'grid-mirror'\n",
      "            This is a synonym for 'reflect'.\n",
      "    \n",
      "        'constant' (`k k k k | a b c d | k k k k`)\n",
      "            The input is extended by filling all values beyond the edge with\n",
      "            the same constant value, defined by the `cval` parameter. No\n",
      "            interpolation is performed beyond the edges of the input.\n",
      "    \n",
      "        'grid-constant' (`k k k k | a b c d | k k k k`)\n",
      "            The input is extended by filling all values beyond the edge with\n",
      "            the same constant value, defined by the `cval` parameter. Interpolation\n",
      "            occurs for samples outside the input's extent  as well.\n",
      "    \n",
      "        'nearest' (`a a a a | a b c d | d d d d`)\n",
      "            The input is extended by replicating the last pixel.\n",
      "    \n",
      "        'mirror' (`d c b | a b c d | c b a`)\n",
      "            The input is extended by reflecting about the center of the last\n",
      "            pixel. This mode is also sometimes referred to as whole-sample\n",
      "            symmetric.\n",
      "    \n",
      "        'grid-wrap' (`a b c d | a b c d | a b c d`)\n",
      "            The input is extended by wrapping around to the opposite edge.\n",
      "    \n",
      "        'wrap' (`d b c d | a b c d | b c a b`)\n",
      "            The input is extended by wrapping around to the opposite edge, but in a\n",
      "            way such that the last point and initial point exactly overlap. In this\n",
      "            case it is not well defined which sample will be chosen at the point of\n",
      "            overlap.\n",
      "    cval : scalar, optional\n",
      "        Value to fill past edges of input if `mode` is 'constant'. Default\n",
      "        is 0.0.\n",
      "    prefilter : bool, optional\n",
      "        Determines if the input array is prefiltered with `spline_filter`\n",
      "        before interpolation. The default is True, which will create a\n",
      "        temporary `float64` array of filtered values if `order > 1`. If\n",
      "        setting this to False, the output will be slightly blurred if\n",
      "        `order > 1`, unless the input is prefiltered, i.e. it is the result\n",
      "        of calling `spline_filter` on the original input.\n",
      "    \n",
      "    Returns\n",
      "    -------\n",
      "    map_coordinates : ndarray\n",
      "        The result of transforming the input. The shape of the output is\n",
      "        derived from that of `coordinates` by dropping the first axis.\n",
      "    \n",
      "    See Also\n",
      "    --------\n",
      "    spline_filter, geometric_transform, scipy.interpolate\n",
      "    \n",
      "    Notes\n",
      "    -----\n",
      "    For complex-valued `input`, this function maps the real and imaginary\n",
      "    components independently.\n",
      "    \n",
      "    .. versionadded:: 1.6.0\n",
      "        Complex-valued support added.\n",
      "    \n",
      "    Examples\n",
      "    --------\n",
      "    >>> from scipy import ndimage\n",
      "    >>> import numpy as np\n",
      "    >>> a = np.arange(12.).reshape((4, 3))\n",
      "    >>> a\n",
      "    array([[  0.,   1.,   2.],\n",
      "           [  3.,   4.,   5.],\n",
      "           [  6.,   7.,   8.],\n",
      "           [  9.,  10.,  11.]])\n",
      "    >>> ndimage.map_coordinates(a, [[0.5, 2], [0.5, 1]], order=1)\n",
      "    array([ 2.,  7.])\n",
      "    \n",
      "    Above, the interpolated value of a[0.5, 0.5] gives output[0], while\n",
      "    a[2, 1] is output[1].\n",
      "    \n",
      "    >>> inds = np.array([[0.5, 2], [0.5, 4]])\n",
      "    >>> ndimage.map_coordinates(a, inds, order=1, cval=-33.3)\n",
      "    array([  2. , -33.3])\n",
      "    >>> ndimage.map_coordinates(a, inds, order=1, mode='nearest')\n",
      "    array([ 2.,  8.])\n",
      "    >>> ndimage.map_coordinates(a, inds, order=1, cval=0, output=bool)\n",
      "    array([ True, False], dtype=bool)\n",
      "\n"
     ]
    }
   ],
   "source": [
    "help(map_coordinates)"
   ]
  },
  {
   "cell_type": "code",
   "execution_count": null,
   "metadata": {},
   "outputs": [
    {
     "name": "stdout",
     "output_type": "stream",
     "text": [
      "[[0. 0. 0.]\n",
      " [0. 0. 0.]\n",
      " [0. 0. 0.]\n",
      " ...\n",
      " [0. 0. 0.]\n",
      " [0. 0. 0.]\n",
      " [0. 0. 0.]]\n"
     ]
    }
   ],
   "source": [
    "    results = np.empty_like(permuted_results)\n",
    "    results[original_points_indexes] = permuted_results\n"
   ]
  }
 ],
 "metadata": {
  "kernelspec": {
   "display_name": "bigstream",
   "language": "python",
   "name": "python3"
  },
  "language_info": {
   "codemirror_mode": {
    "name": "ipython",
    "version": 3
   },
   "file_extension": ".py",
   "mimetype": "text/x-python",
   "name": "python",
   "nbconvert_exporter": "python",
   "pygments_lexer": "ipython3",
   "version": "3.11.9"
  }
 },
 "nbformat": 4,
 "nbformat_minor": 4
}
